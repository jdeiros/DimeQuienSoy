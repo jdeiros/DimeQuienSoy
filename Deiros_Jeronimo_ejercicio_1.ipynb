{
  "nbformat": 4,
  "nbformat_minor": 0,
  "metadata": {
    "colab": {
      "name": "Deiros_Jeronimo_ejercicio_1.ipynb",
      "provenance": [],
      "authorship_tag": "ABX9TyOX9Cy8MQwnBRQOhrOhzN9K",
      "include_colab_link": true
    },
    "kernelspec": {
      "name": "python3",
      "display_name": "Python 3"
    }
  },
  "cells": [
    {
      "cell_type": "markdown",
      "metadata": {
        "id": "view-in-github",
        "colab_type": "text"
      },
      "source": [
        "<a href=\"https://colab.research.google.com/github/jdeiros/soa-2020/blob/master/Deiros_Jeronimo_ejercicio_1.ipynb\" target=\"_parent\"><img src=\"https://colab.research.google.com/assets/colab-badge.svg\" alt=\"Open In Colab\"/></a>"
      ]
    },
    {
      "cell_type": "code",
      "metadata": {
        "id": "_2SMiRFPs7n3",
        "outputId": "76634580-990f-4a60-bfd0-297b6c29e88e",
        "colab": {
          "base_uri": "https://localhost:8080/"
        }
      },
      "source": [
        "print('ejercicio 1')"
      ],
      "execution_count": 1,
      "outputs": [
        {
          "output_type": "stream",
          "text": [
            "ejercicio 1\n"
          ],
          "name": "stdout"
        }
      ]
    }
  ]
}