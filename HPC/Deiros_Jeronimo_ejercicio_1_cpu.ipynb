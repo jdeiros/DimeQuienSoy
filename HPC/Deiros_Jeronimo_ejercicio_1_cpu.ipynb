{
  "nbformat": 4,
  "nbformat_minor": 0,
  "metadata": {
    "colab": {
      "name": "Deiros_Jeronimo_ejercicio_1_cpu.ipynb",
      "provenance": [],
      "authorship_tag": "ABX9TyOsU3OeFTwEP7guM3ofvk0p",
      "include_colab_link": true
    },
    "kernelspec": {
      "name": "python3",
      "display_name": "Python 3"
    }
  },
  "cells": [
    {
      "cell_type": "markdown",
      "metadata": {
        "id": "view-in-github",
        "colab_type": "text"
      },
      "source": [
        "<a href=\"https://colab.research.google.com/github/jdeiros/soa-2020/blob/master/HPC/Deiros_Jeronimo_ejercicio_1_cpu.ipynb\" target=\"_parent\"><img src=\"https://colab.research.google.com/assets/colab-badge.svg\" alt=\"Open In Colab\"/></a>"
      ]
    },
    {
      "cell_type": "markdown",
      "metadata": {
        "id": "ktOqK1RQusis"
      },
      "source": [
        "#1. Introducción\n",
        "Por lo general, las computadoras se utilizan para compilar y analizar los resultados de encuestas y estudios de opinión.\n",
        "\n",
        "El siguiente cuaderno calcula la **moda** de los **N** valores de los elementos de un vector (vector_resultados), lo hace en forma secuencial y utilizando el procesador CPU. Cada elemento del vector se inicializa con resultados aleatorios de puntajes (numeros enteros entre 0 y 9).\n",
        "\n",
        "El algoritmo se basa en un ejemplo práctico del libro \"C/C++ Cómo Programar\"[3] \n",
        "\n",
        "Su objetivo es aprender a utilizar Python[2] en la plataforma Colab [1] y la programación secuencial."
      ]
    },
    {
      "cell_type": "markdown",
      "metadata": {
        "id": "_qty_DG4vCSb"
      },
      "source": [
        "#2. Armado de ambiente\n",
        "\n",
        "No es necesario para este ejercicio."
      ]
    },
    {
      "cell_type": "markdown",
      "metadata": {
        "id": "PEFXCm7UvQmc"
      },
      "source": [
        "#3. Desarrollo\n"
      ]
    },
    {
      "cell_type": "code",
      "metadata": {
        "id": "cVHj_eMNvTKl",
        "colab": {
          "base_uri": "https://localhost:8080/"
        },
        "outputId": "9e9768e4-52a4-42d6-cd27-51474f0fd127"
      },
      "source": [
        "# --------------------------------------------\n",
        "#@title 3.1 Parámetros de ejecución { vertical-output: true }\n",
        "\n",
        "cantidad_elementos =   50000#@param {type: \"number\"}\n",
        "# --------------------------------------------\n",
        "import numpy as np\n",
        "from datetime import datetime\n",
        "\n",
        "tiempo_total = datetime.now()\n",
        "\n",
        "# Definición de función que transforma el tiempo en  milisegundos \n",
        "tiempo_en_ms = lambda dt:(dt.days * 24 * 60 * 60 + dt.seconds) \\\n",
        "              * 1000 + dt.microseconds / 1000.0\n",
        "try:\n",
        "    # Inicializo el vector resultados con puntajes (de 0 a 9) aleatorios\n",
        "    # con cantidad de elementos ingresada.\n",
        "    vector_resultados = np.random.randint(0, 10, size = cantidad_elementos)\n",
        "    vector_resultados = vector_resultados.astype(np.int32())\n",
        "    # Inicializo en cero el vector frecuencia (puntajes de 0 a 9)\n",
        "    vector_frecuencia = [0 for i in range(10)]\n",
        "    print(\"-------------------------------------------------\")\n",
        "    print(\"vector con numeros:\")\n",
        "    print(vector_resultados)\n",
        "    \n",
        "    tiempo_bucle = datetime.now()\n",
        "\n",
        "    # CPU - suma las frecuencias.\n",
        "    for i in range(0, cantidad_elementos):\n",
        "        vector_frecuencia[vector_resultados[i]] += 1\n",
        "\n",
        "    tiempo_bucle = datetime.now() - tiempo_bucle\n",
        "\n",
        "    # CPU - Informo el resultado.\n",
        "    print(\"-------------------------------------------------\")\n",
        "    print(\"vector frecuencia: \")\n",
        "    print(vector_frecuencia)\n",
        "        \n",
        "    mas_grande = 0\n",
        "    valor_moda = 0\n",
        "\n",
        "    # obtengo la moda del vector_frecuencia\n",
        "    for rango in range(0, len(vector_frecuencia)):\n",
        "        if(vector_frecuencia[rango] > mas_grande):\n",
        "            mas_grande = vector_frecuencia[rango]\n",
        "            valor_moda = rango\n",
        "    \n",
        "    print(\"-------------------------------------------------\")\n",
        "    print(f\"Para esta ejecución la moda es: {valor_moda}, \")\n",
        "    print(f\"cual ocurrió {mas_grande} veces.\")\n",
        "\n",
        "    tiempo_total = datetime.now() - tiempo_total\n",
        "    print(\"-------------------------------------------------\")\n",
        "    print(\"Tiempo Total: \", tiempo_en_ms(tiempo_total),\"[ms]\")\n",
        "    print(\"Tiempo bucle: \", tiempo_en_ms(tiempo_bucle), \"[ms]\" )\n",
        "\n",
        "except Exception as e:\n",
        "  print(f\"error: {e}\")\n",
        "\n"
      ],
      "execution_count": 20,
      "outputs": [
        {
          "output_type": "stream",
          "text": [
            "-------------------------------------------------\n",
            "vector con numeros:\n",
            "[8 2 3 ... 0 0 4]\n",
            "-------------------------------------------------\n",
            "vector frecuencia: \n",
            "[5046, 4954, 5012, 5013, 5046, 4975, 4975, 5040, 4986, 4953]\n",
            "-------------------------------------------------\n",
            "Para esta ejecución la moda es: 0, \n",
            "cual ocurrió 5046 veces.\n",
            "-------------------------------------------------\n",
            "Tiempo Total:  22.46 [ms]\n",
            "Tiempo bucle:  18.786 [ms]\n"
          ],
          "name": "stdout"
        }
      ]
    },
    {
      "cell_type": "markdown",
      "metadata": {
        "id": "sChMbfn8vgG1"
      },
      "source": [
        "#4. Tabla de pasos\n",
        "\n",
        "Paso | Procesador | Funcion | Detalle\n",
        "------------ | ------------ | ------------- | -------------\n",
        "1 | CPU | @param | Lectura del tamaño de vector de Colab.\n",
        "2 | CPU | import | Importa los módulos para funcionar.\n",
        "3 | CPU | datetime.now() | Toma el tiempo actual.\n",
        "4 | CPU | np.random.randint(0, 10, size = cantidad_elementos) | Inicializa el vector _vector_resultados_ con puntajes (de 0 a 9) aleatorios en cada elemento, en una cantidad de elementos ingresada en el paso 1.\n",
        "5 | CPU | [0 for i in range(10)] | inicializo el vector frecuencia a 0, este vector representará en cada posición el valor del puntaje (entre 0 y 9) y su contenido representará la cantidad de apariciónes en el vector resultados. Por esta razon es necesario inicializarlo a cero, para luego sumar las frecuencias.\n",
        "6 | CPU | print | muestro los valores del vector_resultados\n",
        "7 | CPU | bucle for | contabilizo las frecuencias de puntajes en el vector_resultados.\n",
        "8 | CPU | print | imprimo los resultados del vector frecuencia\n",
        "9 | CPU | bucle for | obtengo el valor de la moda y la cantidad de repeticiones.\n",
        "10 | CPU | print | muestro los resultados\n",
        "11 | CPU | print | informo tiempos de ejecución."
      ]
    },
    {
      "cell_type": "markdown",
      "metadata": {
        "id": "VX-0yKX0vnTY"
      },
      "source": [
        "#5. Conclusiones\n",
        "\n",
        "TODO: Preparar y correr cuaderno en gpu y realizar comparación....."
      ]
    },
    {
      "cell_type": "markdown",
      "metadata": {
        "id": "aNOtiJKMvvxm"
      },
      "source": [
        "#6. Bibliografía\n",
        "\n",
        "[1] MARKDOWN SYNTAX Colab: PDF\n",
        "\n",
        "[2] Introducción a Python: Página Colab\n",
        "\n",
        "[3] Como Programar en C C++ y Java 4ta Edición Harvey M. Deitel & Paul J. Deitel \n",
        "\n",
        "[4] Biblioteca BLAS: Referencia\n",
        "\n",
        "[5] Documentación PyCUDA: WEB\n",
        "\n",
        "[6] Repositorio de PyCUDA: WEB"
      ]
    }
  ]
}