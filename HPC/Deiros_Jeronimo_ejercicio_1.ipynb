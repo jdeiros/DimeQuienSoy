{
  "nbformat": 4,
  "nbformat_minor": 0,
  "metadata": {
    "colab": {
      "name": "Deiros_Jeronimo_ejercicio_1.ipynb",
      "provenance": [],
      "authorship_tag": "ABX9TyM5x8UsC2X6+Vu3O5Em8h6E",
      "include_colab_link": true
    },
    "kernelspec": {
      "name": "python3",
      "display_name": "Python 3"
    }
  },
  "cells": [
    {
      "cell_type": "markdown",
      "metadata": {
        "id": "view-in-github",
        "colab_type": "text"
      },
      "source": [
        "<a href=\"https://colab.research.google.com/github/jdeiros/soa-2020/blob/master/HPC/Deiros_Jeronimo_ejercicio_1.ipynb\" target=\"_parent\"><img src=\"https://colab.research.google.com/assets/colab-badge.svg\" alt=\"Open In Colab\"/></a>"
      ]
    },
    {
      "cell_type": "markdown",
      "metadata": {
        "id": "ktOqK1RQusis"
      },
      "source": [
        "#1. Introducción\n",
        "El siguiente cuaderno realiza la suma de dos vectores en forma secuencial, utilizando el procesador CPU. El algoritmo se basa en la función **axpy** [3] de nivel 1, de la biblioteca BLAS [4] que resuelve la ecuación:\n",
        "\n",
        "Su objetivo es enseñar a los alumnos como se utiliza Python[2] la plataforma Colab [1] y la programación secuencial."
      ]
    },
    {
      "cell_type": "markdown",
      "metadata": {
        "id": "_qty_DG4vCSb"
      },
      "source": [
        "#2. Armado de ambiente"
      ]
    },
    {
      "cell_type": "code",
      "metadata": {
        "id": "OCWe4zsmvFrp",
        "outputId": "88dfe384-2d0d-4842-dc26-a8cfdd6aa8fd",
        "colab": {
          "base_uri": "https://localhost:8080/"
        }
      },
      "source": [
        "print('codigo para armado de ambiente')"
      ],
      "execution_count": null,
      "outputs": [
        {
          "output_type": "stream",
          "text": [
            "codigo para armado de ambiente\n"
          ],
          "name": "stdout"
        }
      ]
    },
    {
      "cell_type": "markdown",
      "metadata": {
        "id": "PEFXCm7UvQmc"
      },
      "source": [
        "#3. Desarrollo"
      ]
    },
    {
      "cell_type": "code",
      "metadata": {
        "id": "cVHj_eMNvTKl",
        "outputId": "d6f6f379-cfc9-4aaf-8666-813fe00eb52e",
        "colab": {
          "base_uri": "https://localhost:8080/"
        }
      },
      "source": [
        "print('codigo para el desarrollo de la practica')"
      ],
      "execution_count": null,
      "outputs": [
        {
          "output_type": "stream",
          "text": [
            "codigo para el desarrollo de la practica\n"
          ],
          "name": "stdout"
        }
      ]
    },
    {
      "cell_type": "markdown",
      "metadata": {
        "id": "sChMbfn8vgG1"
      },
      "source": [
        "#4. Tabla de pasos\n",
        "\n",
        "Procesador | Funcion | Detalle\n",
        "------------ | ------------- | -------------\n",
        "CPU | @param | Lectura del tamaño de vectories de Colab.\n",
        "CPU | import | Importa los módulos para funcionar.\n",
        "CPU | datetime.now() | Toma el tiempo actual.\n",
        "CPU | numpy.random.randn( Cantidad_N ) | Inicializa los vectores A, B y R.\n",
        "**GPU** | cuda.mem_alloc() | Reserva la memoria en GPU.\n",
        "**GPU** | cuda.memcpy_htod() | Copia las memorias desde el CPU al GPU.\n",
        "CPU | SourceModule() | Define el código del Kernel\n",
        "CPU | module.get_function() | Genera la función del Kernel GPU.\n",
        "CPU | dim_tx/dim_bx | Calcula las dimensiones.\n",
        "**GPU** |kernel() | Ejecuta el kernel en GPU\n",
        "CPU | cuda.memcpy_dtoh() | Copia el resultado desde GPU memoria A a CPU memoria R.\n",
        "CPU | print() | Informo los resultados."
      ]
    },
    {
      "cell_type": "markdown",
      "metadata": {
        "id": "VX-0yKX0vnTY"
      },
      "source": [
        "#5. Conclusiones\n",
        "\n",
        "Las conclusiones son explicadas en clase...."
      ]
    },
    {
      "cell_type": "markdown",
      "metadata": {
        "id": "aNOtiJKMvvxm"
      },
      "source": [
        "#6. Bibliografía\n",
        "\n",
        "[1] MARKDOWN SYNTAX Colab: PDF\n",
        "\n",
        "[2] Introducción a Python: Página Colab\n",
        "\n",
        "[3] Función Axpy de biblioteca BLAS: Referencia\n",
        "\n",
        "[4] Biblioteca BLAS: Referencia\n",
        "\n",
        "[5] Documentación PyCUDA: WEB\n",
        "\n",
        "[6] Repositorio de PyCUDA: WEB"
      ]
    }
  ]
}