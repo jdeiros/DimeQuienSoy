{
  "nbformat": 4,
  "nbformat_minor": 0,
  "metadata": {
    "colab": {
      "name": "Deiros_Jeronimo_ejercicio_1.ipynb",
      "provenance": [],
      "authorship_tag": "ABX9TyPOEcKSiY3P0cntWP/ftED2",
      "include_colab_link": true
    },
    "kernelspec": {
      "name": "python3",
      "display_name": "Python 3"
    }
  },
  "cells": [
    {
      "cell_type": "markdown",
      "metadata": {
        "id": "view-in-github",
        "colab_type": "text"
      },
      "source": [
        "<a href=\"https://colab.research.google.com/github/jdeiros/soa-2020/blob/master/HPC/Deiros_Jeronimo_ejercicio_1.ipynb\" target=\"_parent\"><img src=\"https://colab.research.google.com/assets/colab-badge.svg\" alt=\"Open In Colab\"/></a>"
      ]
    },
    {
      "cell_type": "markdown",
      "metadata": {
        "id": "ktOqK1RQusis"
      },
      "source": [
        "#Introducción"
      ]
    },
    {
      "cell_type": "markdown",
      "metadata": {
        "id": "_qty_DG4vCSb"
      },
      "source": [
        "#Armado de ambiente"
      ]
    },
    {
      "cell_type": "code",
      "metadata": {
        "id": "OCWe4zsmvFrp",
        "outputId": "88dfe384-2d0d-4842-dc26-a8cfdd6aa8fd",
        "colab": {
          "base_uri": "https://localhost:8080/"
        }
      },
      "source": [
        "print('codigo para armado de ambiente')"
      ],
      "execution_count": 1,
      "outputs": [
        {
          "output_type": "stream",
          "text": [
            "codigo para armado de ambiente\n"
          ],
          "name": "stdout"
        }
      ]
    },
    {
      "cell_type": "markdown",
      "metadata": {
        "id": "PEFXCm7UvQmc"
      },
      "source": [
        "#Desarrollo"
      ]
    },
    {
      "cell_type": "code",
      "metadata": {
        "id": "cVHj_eMNvTKl",
        "outputId": "d6f6f379-cfc9-4aaf-8666-813fe00eb52e",
        "colab": {
          "base_uri": "https://localhost:8080/"
        }
      },
      "source": [
        "print('codigo para el desarrollo de la practica')"
      ],
      "execution_count": 2,
      "outputs": [
        {
          "output_type": "stream",
          "text": [
            "codigo para el desarrollo de la practica\n"
          ],
          "name": "stdout"
        }
      ]
    },
    {
      "cell_type": "markdown",
      "metadata": {
        "id": "sChMbfn8vgG1"
      },
      "source": [
        "#Tabla de pasos"
      ]
    },
    {
      "cell_type": "code",
      "metadata": {
        "id": "RgCVJx6kvjZb",
        "outputId": "8a989a87-61e1-4b5b-fee9-85f13d6fe530",
        "colab": {
          "base_uri": "https://localhost:8080/"
        }
      },
      "source": [
        "print('seccion de tabla de pasos')"
      ],
      "execution_count": 3,
      "outputs": [
        {
          "output_type": "stream",
          "text": [
            "seccion de tabla de pasos\n"
          ],
          "name": "stdout"
        }
      ]
    },
    {
      "cell_type": "markdown",
      "metadata": {
        "id": "VX-0yKX0vnTY"
      },
      "source": [
        "#Conclusiones"
      ]
    },
    {
      "cell_type": "code",
      "metadata": {
        "id": "EvK8j6DRvpdp"
      },
      "source": [
        ""
      ],
      "execution_count": null,
      "outputs": []
    },
    {
      "cell_type": "markdown",
      "metadata": {
        "id": "aNOtiJKMvvxm"
      },
      "source": [
        "#Bibliografía"
      ]
    },
    {
      "cell_type": "code",
      "metadata": {
        "id": "g8Ll-Eotvx0j"
      },
      "source": [
        ""
      ],
      "execution_count": null,
      "outputs": []
    }
  ]
}