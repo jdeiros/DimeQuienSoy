{
  "nbformat": 4,
  "nbformat_minor": 0,
  "metadata": {
    "colab": {
      "name": "Deiros_Jeronimo_ejercicio_1_gpu.ipynb",
      "provenance": [],
      "authorship_tag": "ABX9TyPSGvztOrOz87IdS6b+Y51h",
      "include_colab_link": true
    },
    "kernelspec": {
      "name": "python3",
      "display_name": "Python 3"
    },
    "accelerator": "GPU"
  },
  "cells": [
    {
      "cell_type": "markdown",
      "metadata": {
        "id": "view-in-github",
        "colab_type": "text"
      },
      "source": [
        "<a href=\"https://colab.research.google.com/github/jdeiros/soa-2020/blob/master/HPC/Deiros_Jeronimo_ejercicio_1_gpu.ipynb\" target=\"_parent\"><img src=\"https://colab.research.google.com/assets/colab-badge.svg\" alt=\"Open In Colab\"/></a>"
      ]
    },
    {
      "cell_type": "markdown",
      "metadata": {
        "id": "ktOqK1RQusis"
      },
      "source": [
        "#1. Introducción\n",
        "gpu----------\n",
        "\n",
        "Por lo general, las computadoras se utilizan para compilar y analizar los resultados de encuestas y estudios de opinión.\n",
        "\n",
        "El siguiente cuaderno calcula la **moda** de los **N** valores de los elementos de un vector (vector_resultados), lo hace en forma secuencial y utilizando el procesador CPU. Cada elemento del vector se inicializa con resultados aleatorios de puntajes (numeros enteros entre 0 y 9).\n",
        "\n",
        "El algoritmo se basa en un ejemplo práctico del libro \"C/C++ Cómo Programar\"[3] \n",
        "\n",
        "Su objetivo es aprender a utilizar Python[2] en la plataforma Colab [1] y la programación secuencial."
      ]
    },
    {
      "cell_type": "markdown",
      "metadata": {
        "id": "_qty_DG4vCSb"
      },
      "source": [
        "#2. Armado de ambiente\n",
        "\n",
        "Instalación de modulo CUDA  de Python."
      ]
    },
    {
      "cell_type": "code",
      "metadata": {
        "colab": {
          "base_uri": "https://localhost:8080/"
        },
        "id": "y4_tXQSa5s8g",
        "outputId": "b106f54f-f721-4c52-a6e7-b47aac5bc3dd"
      },
      "source": [
        "!pip install pycuda"
      ],
      "execution_count": 2,
      "outputs": [
        {
          "output_type": "stream",
          "text": [
            "Collecting pycuda\n",
            "\u001b[?25l  Downloading https://files.pythonhosted.org/packages/46/61/47d3235a4c13eec5a5f03594ddb268f4858734e02980afbcd806e6242fa5/pycuda-2020.1.tar.gz (1.6MB)\n",
            "\u001b[K     |████████████████████████████████| 1.6MB 14.9MB/s \n",
            "\u001b[?25hCollecting pytools>=2011.2\n",
            "\u001b[?25l  Downloading https://files.pythonhosted.org/packages/b7/30/c9362a282ef89106768cba9d884f4b2e4f5dc6881d0c19b478d2a710b82b/pytools-2020.4.3.tar.gz (62kB)\n",
            "\u001b[K     |████████████████████████████████| 71kB 11.2MB/s \n",
            "\u001b[?25hRequirement already satisfied: decorator>=3.2.0 in /usr/local/lib/python3.6/dist-packages (from pycuda) (4.4.2)\n",
            "Collecting appdirs>=1.4.0\n",
            "  Downloading https://files.pythonhosted.org/packages/3b/00/2344469e2084fb287c2e0b57b72910309874c3245463acd6cf5e3db69324/appdirs-1.4.4-py2.py3-none-any.whl\n",
            "Collecting mako\n",
            "\u001b[?25l  Downloading https://files.pythonhosted.org/packages/a6/37/0e706200d22172eb8fa17d68a7ae22dec7631a0a92266634fb518a88a5b2/Mako-1.1.3-py2.py3-none-any.whl (75kB)\n",
            "\u001b[K     |████████████████████████████████| 81kB 11.8MB/s \n",
            "\u001b[?25hRequirement already satisfied: six>=1.8.0 in /usr/local/lib/python3.6/dist-packages (from pytools>=2011.2->pycuda) (1.15.0)\n",
            "Requirement already satisfied: numpy>=1.6.0 in /usr/local/lib/python3.6/dist-packages (from pytools>=2011.2->pycuda) (1.18.5)\n",
            "Requirement already satisfied: dataclasses>=0.7 in /usr/local/lib/python3.6/dist-packages (from pytools>=2011.2->pycuda) (0.7)\n",
            "Requirement already satisfied: MarkupSafe>=0.9.2 in /usr/local/lib/python3.6/dist-packages (from mako->pycuda) (1.1.1)\n",
            "Building wheels for collected packages: pycuda, pytools\n",
            "  Building wheel for pycuda (setup.py) ... \u001b[?25l\u001b[?25hdone\n",
            "  Created wheel for pycuda: filename=pycuda-2020.1-cp36-cp36m-linux_x86_64.whl size=621008 sha256=3b27c08ebc6d21688b77c86ebf689f5c0fd55a1af43df08e8ec4e55e81f3a662\n",
            "  Stored in directory: /root/.cache/pip/wheels/8f/78/d1/5bb826f81d9d490297a348d818ff3ee6dd6f2075b06dde6ea0\n",
            "  Building wheel for pytools (setup.py) ... \u001b[?25l\u001b[?25hdone\n",
            "  Created wheel for pytools: filename=pytools-2020.4.3-py2.py3-none-any.whl size=61374 sha256=2c584e05815c67bea2713045eb4b76449d4879db9f8b760606f74af7ec3c7466\n",
            "  Stored in directory: /root/.cache/pip/wheels/af/c7/81/a22edb90b0b09a880468b2253bb1df8e9f503337ee15432c64\n",
            "Successfully built pycuda pytools\n",
            "Installing collected packages: appdirs, pytools, mako, pycuda\n",
            "Successfully installed appdirs-1.4.4 mako-1.1.3 pycuda-2020.1 pytools-2020.4.3\n"
          ],
          "name": "stdout"
        }
      ]
    },
    {
      "cell_type": "markdown",
      "metadata": {
        "id": "PEFXCm7UvQmc"
      },
      "source": [
        "#3. Desarrollo\n"
      ]
    },
    {
      "cell_type": "code",
      "metadata": {
        "id": "cVHj_eMNvTKl",
        "colab": {
          "base_uri": "https://localhost:8080/"
        },
        "outputId": "6541d36e-ebd0-4dda-9f0d-967fd84eaab1"
      },
      "source": [
        "# --------------------------------------------\n",
        "#@title 3.1 Parámetros de ejecución { vertical-output: true }\n",
        "\n",
        "cantidad_elementos =   300#@param {type: \"number\"}\n",
        "# --------------------------------------------\n",
        "\n",
        "import pycuda.driver as cuda\n",
        "import pycuda.autoinit\n",
        "import numpy as np\n",
        "from datetime import datetime\n",
        "from pycuda.compiler import SourceModule\n",
        "\n",
        "tiempo_total = datetime.now()\n",
        "\n",
        "# Definición de función que transforma el tiempo en  milisegundos \n",
        "tiempo_en_ms = lambda dt:(dt.days * 24 * 60 * 60 + dt.seconds) \\\n",
        "              * 1000 + dt.microseconds / 1000.0\n",
        "try:\n",
        "    # CPU: Inicializo el vector resultados con puntajes (de 0 a 9) aleatorios\n",
        "    # con cantidad de elementos ingresada.\n",
        "    vector_resultados_cpu = np.random.randint(0, 10, size = cantidad_elementos)\n",
        "    vector_resultados_cpu = np.asarray(vector_resultados_cpu, dtype = np.int32)    \n",
        "\n",
        "    # Inicializo en cero el vector frecuencia (puntajes de 0 a 9)\n",
        "    vector_frecuencias_cpu = [0 for i in range(10)]\n",
        "    vector_frecuencias_cpu = np.asarray(vector_frecuencias_cpu, dtype = np.int32)\n",
        "\n",
        "    print(\"-------------------------------------------------\")\n",
        "    print(\"vector respuestas cpu:\")\n",
        "    print(vector_resultados_cpu)\n",
        "\n",
        "    # CPU - reservo la memoria GPU.\n",
        "    vector_resultados_gpu = cuda.mem_alloc(vector_resultados_cpu.nbytes)\n",
        "    vector_frecuencias_gpu = cuda.mem_alloc(vector_frecuencias_cpu.nbytes)\n",
        "\n",
        "    # GPU - Copio la memoria al GPU.\n",
        "    cuda.memcpy_htod(vector_resultados_gpu, vector_resultados_cpu)\n",
        "    cuda.memcpy_htod(vector_frecuencias_gpu, vector_frecuencias_cpu)\n",
        "\n",
        "    # CPU - Defino la función kernel que ejecutará en GPU.\n",
        "    module = SourceModule(\"\"\"\n",
        "    __global__ void kernel_moda(int n, int *frecuencias , int *resultados)\n",
        "    {\n",
        "        int idx = threadIdx.x + blockIdx.x * blockDim.x;\n",
        "        \n",
        "        if(idx < n)\n",
        "        {\n",
        "            ++frecuencias[resultados[idx]];\n",
        "        }\n",
        "        \n",
        "    }\n",
        "    \"\"\")\n",
        "\n",
        "    # CPU - Genero la función kernel.\n",
        "    kernel = module.get_function(\"kernel_moda\")\n",
        "    \n",
        "    tiempo_gpu = datetime.now()\n",
        "    \n",
        "    dim_hilo = 256\n",
        "    dim_bloque = np.int( (cantidad_elementos + dim_hilo - 1) / dim_hilo )\n",
        "    print( \"Thread x: \", dim_hilo, \", Bloque x:\", dim_bloque )\n",
        "    \n",
        "    # GPU - Ejecuta el kernel.\n",
        "    kernel( np.int32(cantidad_elementos), \\\n",
        "            vector_frecuencias_gpu, \\\n",
        "            vector_resultados_gpu, \\\n",
        "            block=( dim_hilo, 1, 1 ), grid=(dim_bloque, 1,1) )\n",
        "\n",
        "    tiempo_gpu = datetime.now() - tiempo_gpu\n",
        "\n",
        "    # GPU - Copio el resultado desde la memoria GPU.\n",
        "    cuda.memcpy_dtoh( vector_frecuencias_cpu, vector_frecuencias_gpu )\n",
        "\n",
        "    \n",
        "    # CPU - Informo el resultado.\n",
        "    print(\"-------------------------------------------------\")\n",
        "    print(\"vector frecuencias: \")\n",
        "    print(vector_frecuencias_cpu)\n",
        "        \n",
        "    mas_grande = 0\n",
        "    valor_moda = 0\n",
        "\n",
        "    # obtengo la moda del vector_frecuencias_cpu\n",
        "    for rango in range(0, len(vector_frecuencias_cpu)):\n",
        "        if(vector_frecuencias_cpu[rango] > mas_grande):\n",
        "            mas_grande = vector_frecuencias_cpu[rango]\n",
        "            valor_moda = rango\n",
        "    \n",
        "    print(\"-------------------------------------------------\")\n",
        "    print(f\"Para esta ejecución la moda es: {valor_moda}, \")\n",
        "    print(f\"cual ocurrió {mas_grande} veces.\")\n",
        "\n",
        "    tiempo_total = datetime.now() - tiempo_total\n",
        "    print(\"-------------------------------------------------\")\n",
        "    print(\"Tiempo Total: \", tiempo_en_ms(tiempo_total),\"[ms]\")\n",
        "    print(\"Tiempo gpu: \", tiempo_en_ms(tiempo_gpu), \"[ms]\" )\n",
        "\n",
        "except Exception as e:\n",
        "  print(f\"error: {e}\")\n",
        "\n"
      ],
      "execution_count": 122,
      "outputs": [
        {
          "output_type": "stream",
          "text": [
            "-------------------------------------------------\n",
            "vector respuestas cpu:\n",
            "[9 3 8 5 8 0 5 2 5 0 7 9 2 0 9 3 8 5 1 7 7 1 3 0 5 3 4 1 6 2 6 3 0 0 4 9 8\n",
            " 6 0 3 5 7 4 5 8 1 3 8 2 3 9 9 7 5 6 2 7 4 2 5 0 6 3 2 5 3 6 7 8 5 6 3 2 7\n",
            " 0 2 7 4 7 3 3 6 7 1 5 2 7 1 2 5 1 5 5 3 7 8 7 9 2 3 5 9 4 7 5 4 7 5 3 8 9\n",
            " 1 2 9 2 2 0 1 7 0 2 6 6 4 8 8 3 8 3 8 0 5 4 3 3 3 5 8 6 1 1 0 1 3 0 0 1 4\n",
            " 8 4 6 7 6 8 3 1 1 1 1 0 2 8 9 1 2 5 9 7 7 3 9 0 6 0 1 5 6 1 6 6 7 9 1 4 4\n",
            " 2 3 5 9 4 3 8 7 9 7 3 1 7 6 7 3 2 2 3 6 9 0 7 6 5 6 7 9 4 0 3 0 5 1 3 3 8\n",
            " 6 0 7 8 6 4 4 0 7 8 2 7 2 3 7 6 6 4 7 1 6 7 1 9 6 0 9 5 1 8 8 4 0 2 5 1 1\n",
            " 0 6 3 4 2 4 1 1 5 5 6 1 5 2 7 9 5 0 1 6 2 6 5 8 4 5 3 4 0 9 0 6 3 3 8 9 9\n",
            " 0 1 2 8]\n",
            "Thread x:  256 , Bloque x: 2\n",
            "-------------------------------------------------\n",
            "vector frecuencias: \n",
            "[1 1 1 1 1 1 1 1 1 1]\n",
            "-------------------------------------------------\n",
            "Para esta ejecución la moda es: 0, \n",
            "cual ocurrió 1 veces.\n",
            "-------------------------------------------------\n",
            "Tiempo Total:  293.422 [ms]\n",
            "Tiempo gpu:  0.391 [ms]\n"
          ],
          "name": "stdout"
        }
      ]
    },
    {
      "cell_type": "markdown",
      "metadata": {
        "id": "sChMbfn8vgG1"
      },
      "source": [
        "#4. Tabla de pasos\n",
        "\n",
        "Paso | Procesador | Funcion | Detalle\n",
        "------------ | ------------ | ------------- | -------------\n",
        "1 | CPU | @param | Lectura del tamaño de vector de Colab.\n",
        "2 | CPU | import | Importa los módulos para funcionar.\n",
        "3 | CPU | datetime.now() | Toma el tiempo actual.\n",
        "4 | CPU | np.random.randint(0, 10, size = cantidad_elementos) | Inicializa el vector _vector_resultados_ con puntajes (de 0 a 9) aleatorios en cada elemento, en una cantidad de elementos ingresada en el paso 1.\n",
        "5 | CPU | [0 for i in range(10)] | inicializo el vector frecuencia a 0, este vector representará en cada posición el valor del puntaje (entre 0 y 9) y su contenido representará la cantidad de apariciónes en el vector resultados. Por esta razon es necesario inicializarlo a cero, para luego sumar las frecuencias.\n",
        "6 | CPU | print | muestro los valores del vector_resultados\n",
        "7 | CPU | bucle for | contabilizo las frecuencias de puntajes en el vector_resultados.\n",
        "8 | CPU | print | imprimo los resultados del vector frecuencia\n",
        "9 | CPU | bucle for | obtengo el valor de la moda y la cantidad de repeticiones.\n",
        "10 | CPU | print | muestro los resultados\n",
        "11 | CPU | print | informo tiempos de ejecución."
      ]
    },
    {
      "cell_type": "markdown",
      "metadata": {
        "id": "VX-0yKX0vnTY"
      },
      "source": [
        "#5. Conclusiones\n",
        "\n",
        "TODO: Preparar y correr cuaderno en gpu y realizar comparación....."
      ]
    },
    {
      "cell_type": "markdown",
      "metadata": {
        "id": "aNOtiJKMvvxm"
      },
      "source": [
        "#6. Bibliografía\n",
        "\n",
        "[1] MARKDOWN SYNTAX Colab: PDF\n",
        "\n",
        "[2] Introducción a Python: Página Colab\n",
        "\n",
        "[3] Como Programar en C C++ y Java 4ta Edición Harvey M. Deitel & Paul J. Deitel \n",
        "\n",
        "[4] Biblioteca BLAS: Referencia\n",
        "\n",
        "[5] Documentación PyCUDA: WEB\n",
        "\n",
        "[6] Repositorio de PyCUDA: WEB"
      ]
    }
  ]
}