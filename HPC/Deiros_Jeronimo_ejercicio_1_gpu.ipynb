{
  "nbformat": 4,
  "nbformat_minor": 0,
  "metadata": {
    "colab": {
      "name": "Deiros_Jeronimo_ejercicio_1_gpu.ipynb",
      "provenance": [],
      "authorship_tag": "ABX9TyNnG7kq8c06FA+qhjF2Qb3W",
      "include_colab_link": true
    },
    "kernelspec": {
      "name": "python3",
      "display_name": "Python 3"
    },
    "accelerator": "GPU"
  },
  "cells": [
    {
      "cell_type": "markdown",
      "metadata": {
        "id": "view-in-github",
        "colab_type": "text"
      },
      "source": [
        "<a href=\"https://colab.research.google.com/github/jdeiros/soa-2020/blob/master/HPC/Deiros_Jeronimo_ejercicio_1_gpu.ipynb\" target=\"_parent\"><img src=\"https://colab.research.google.com/assets/colab-badge.svg\" alt=\"Open In Colab\"/></a>"
      ]
    },
    {
      "cell_type": "markdown",
      "metadata": {
        "id": "ktOqK1RQusis"
      },
      "source": [
        "#1. Introducción\n",
        "gpu----------\n",
        "\n",
        "Por lo general, las computadoras se utilizan para compilar y analizar los resultados de encuestas y estudios de opinión.\n",
        "\n",
        "El siguiente cuaderno calcula la **moda** de los **N** valores de los elementos de un vector (vector_resultados), lo hace en forma secuencial y utilizando el procesador CPU. Cada elemento del vector se inicializa con resultados aleatorios de puntajes (numeros enteros entre 0 y 9).\n",
        "\n",
        "El algoritmo se basa en un ejemplo práctico del libro \"C/C++ Cómo Programar\"[3] \n",
        "\n",
        "Su objetivo es aprender a utilizar Python[2] en la plataforma Colab [1] y la programación secuencial."
      ]
    },
    {
      "cell_type": "markdown",
      "metadata": {
        "id": "_qty_DG4vCSb"
      },
      "source": [
        "#2. Armado de ambiente\n",
        "\n",
        "Instalación de modulo CUDA  de Python."
      ]
    },
    {
      "cell_type": "code",
      "metadata": {
        "colab": {
          "base_uri": "https://localhost:8080/"
        },
        "id": "y4_tXQSa5s8g",
        "outputId": "b106f54f-f721-4c52-a6e7-b47aac5bc3dd"
      },
      "source": [
        "!pip install pycuda"
      ],
      "execution_count": null,
      "outputs": [
        {
          "output_type": "stream",
          "text": [
            "Collecting pycuda\n",
            "\u001b[?25l  Downloading https://files.pythonhosted.org/packages/46/61/47d3235a4c13eec5a5f03594ddb268f4858734e02980afbcd806e6242fa5/pycuda-2020.1.tar.gz (1.6MB)\n",
            "\u001b[K     |████████████████████████████████| 1.6MB 14.9MB/s \n",
            "\u001b[?25hCollecting pytools>=2011.2\n",
            "\u001b[?25l  Downloading https://files.pythonhosted.org/packages/b7/30/c9362a282ef89106768cba9d884f4b2e4f5dc6881d0c19b478d2a710b82b/pytools-2020.4.3.tar.gz (62kB)\n",
            "\u001b[K     |████████████████████████████████| 71kB 11.2MB/s \n",
            "\u001b[?25hRequirement already satisfied: decorator>=3.2.0 in /usr/local/lib/python3.6/dist-packages (from pycuda) (4.4.2)\n",
            "Collecting appdirs>=1.4.0\n",
            "  Downloading https://files.pythonhosted.org/packages/3b/00/2344469e2084fb287c2e0b57b72910309874c3245463acd6cf5e3db69324/appdirs-1.4.4-py2.py3-none-any.whl\n",
            "Collecting mako\n",
            "\u001b[?25l  Downloading https://files.pythonhosted.org/packages/a6/37/0e706200d22172eb8fa17d68a7ae22dec7631a0a92266634fb518a88a5b2/Mako-1.1.3-py2.py3-none-any.whl (75kB)\n",
            "\u001b[K     |████████████████████████████████| 81kB 11.8MB/s \n",
            "\u001b[?25hRequirement already satisfied: six>=1.8.0 in /usr/local/lib/python3.6/dist-packages (from pytools>=2011.2->pycuda) (1.15.0)\n",
            "Requirement already satisfied: numpy>=1.6.0 in /usr/local/lib/python3.6/dist-packages (from pytools>=2011.2->pycuda) (1.18.5)\n",
            "Requirement already satisfied: dataclasses>=0.7 in /usr/local/lib/python3.6/dist-packages (from pytools>=2011.2->pycuda) (0.7)\n",
            "Requirement already satisfied: MarkupSafe>=0.9.2 in /usr/local/lib/python3.6/dist-packages (from mako->pycuda) (1.1.1)\n",
            "Building wheels for collected packages: pycuda, pytools\n",
            "  Building wheel for pycuda (setup.py) ... \u001b[?25l\u001b[?25hdone\n",
            "  Created wheel for pycuda: filename=pycuda-2020.1-cp36-cp36m-linux_x86_64.whl size=621008 sha256=3b27c08ebc6d21688b77c86ebf689f5c0fd55a1af43df08e8ec4e55e81f3a662\n",
            "  Stored in directory: /root/.cache/pip/wheels/8f/78/d1/5bb826f81d9d490297a348d818ff3ee6dd6f2075b06dde6ea0\n",
            "  Building wheel for pytools (setup.py) ... \u001b[?25l\u001b[?25hdone\n",
            "  Created wheel for pytools: filename=pytools-2020.4.3-py2.py3-none-any.whl size=61374 sha256=2c584e05815c67bea2713045eb4b76449d4879db9f8b760606f74af7ec3c7466\n",
            "  Stored in directory: /root/.cache/pip/wheels/af/c7/81/a22edb90b0b09a880468b2253bb1df8e9f503337ee15432c64\n",
            "Successfully built pycuda pytools\n",
            "Installing collected packages: appdirs, pytools, mako, pycuda\n",
            "Successfully installed appdirs-1.4.4 mako-1.1.3 pycuda-2020.1 pytools-2020.4.3\n"
          ],
          "name": "stdout"
        }
      ]
    },
    {
      "cell_type": "markdown",
      "metadata": {
        "id": "PEFXCm7UvQmc"
      },
      "source": [
        "#3. Desarrollo\n"
      ]
    },
    {
      "cell_type": "code",
      "metadata": {
        "id": "cVHj_eMNvTKl",
        "colab": {
          "base_uri": "https://localhost:8080/"
        },
        "outputId": "26684986-e180-44ca-9bea-63f474e009bb"
      },
      "source": [
        "# --------------------------------------------\n",
        "#@title 3.1 Parámetros de ejecución { vertical-output: true }\n",
        "\n",
        "cantidad_N =   50#@param {type: \"number\"}\n",
        "\n",
        "# --------------------------------------------\n",
        "\n",
        "from datetime import datetime\n",
        "\n",
        "tiempo_total = datetime.now()\n",
        "\n",
        "import pycuda.driver as cuda\n",
        "import pycuda.autoinit\n",
        "from pycuda.compiler import SourceModule\n",
        "\n",
        "import numpy\n",
        "\n",
        "# --------------------------------------------\n",
        "# Definición de función que transforma el tiempo en  milisegundos \n",
        "tiempo_en_ms = lambda dt:(dt.days * 24 * 60 * 60 + dt.seconds) * 1000 + dt.microseconds / 1000.0\n",
        "\n",
        "\n",
        "# CPU - Defino la memoria de los vectores en cpu.\n",
        "x_cpu = numpy.random.randn( cantidad_N )\n",
        "x_cpu = x_cpu.astype( numpy.float32() )\n",
        "\n",
        "\n",
        "#tiempo_ini_cpu = datetime.now()\n",
        "\n",
        "r_cpu = numpy.empty_like( x_cpu )\n",
        "\n",
        "# CPU - reservo la memoria GPU.\n",
        "x_gpu = cuda.mem_alloc( x_cpu.nbytes )\n",
        "\n",
        "# GPU - Copio la memoria al GPU.\n",
        "cuda.memcpy_htod( x_gpu, x_cpu )\n",
        "\n",
        "# CPU - Defino la función kernel que ejecutará en GPU.\n",
        "module = SourceModule(\"\"\"\n",
        "__global__ void kernel_axpy( int n, float *X )\n",
        "{\n",
        "  int idx = threadIdx.x + blockIdx.x*blockDim.x;\n",
        "  if( idx < n )\n",
        "  {\n",
        "      if(X[idx] == 0)\n",
        "        X[idx] = 0;\n",
        "      else\n",
        "        X[idx]  = X[idx] / X[idx];\n",
        "  }\n",
        "}\n",
        "\"\"\") \n",
        "# CPU - Genero la función kernel.\n",
        "kernel = module.get_function(\"kernel_axpy\")\n",
        "\n",
        "tiempo_gpu = datetime.now()\n",
        "\n",
        "# GPU - Ejecuta el kernel.\n",
        "# TODO: Falta consultar limites del GPU, para armar las dimensiones correctamente.\n",
        "dim_hilo = 256\n",
        "dim_bloque = numpy.int( (cantidad_N+dim_hilo-1) / dim_hilo )\n",
        "print( \"Thread x: \", dim_hilo, \", Bloque x:\", dim_bloque )\n",
        "\n",
        "#TODO: Ojo, con los tipos de las variables en el kernel.\n",
        "kernel( numpy.int32(cantidad_N), x_gpu, block=( dim_hilo, 1, 1 ),grid=(dim_bloque, 1,1) )\n",
        "\n",
        "tiempo_gpu = datetime.now() - tiempo_gpu\n",
        "\n",
        "# GPU - Copio el resultado desde la memoria GPU.\n",
        "cuda.memcpy_dtoh( r_cpu, x_gpu )\n",
        "\n",
        "\n",
        "# CPU - Informo el resutlado.\n",
        "print( \"------------------------------------\")\n",
        "print( \"X: \" )\n",
        "print( x_cpu )\n",
        "print( \"------------------------------------\")\n",
        "print( \"R: \" )\n",
        "print( r_cpu )\n",
        "\n",
        "\n",
        "tiempo_total = datetime.now() - tiempo_total\n",
        "\n",
        "print( \"Cantidad de elementos: \", cantidad_N )\n",
        "print( \"Thread x: \", dim_hilo, \", Bloque x:\", dim_bloque )\n",
        "print(\"Tiempo CPU: \", tiempo_en_ms( tiempo_total ), \"[ms]\" )\n",
        "print(\"Tiempo GPU: \", tiempo_en_ms( tiempo_gpu   ), \"[ms]\" )"
      ],
      "execution_count": 166,
      "outputs": [
        {
          "output_type": "stream",
          "text": [
            "Thread x:  256 , Bloque x: 1\n",
            "------------------------------------\n",
            "X: \n",
            "[ 0.14327128 -1.1691452  -1.0609384   1.0811981  -0.69590634  0.2138904\n",
            "  0.01431662  0.14744574  0.08865719  1.0298524  -0.36717856 -1.1830544\n",
            " -0.44746318 -0.47035813  0.29482543 -0.7107522   0.0579996  -0.55715406\n",
            "  0.4021698  -1.3428118  -0.26230258 -1.2498338   1.5534211   1.2672026\n",
            " -0.8454386  -0.3852646  -0.3396521   1.5116189  -0.44174123  2.0967224\n",
            "  0.9695537   1.2783296  -0.12307635 -0.7236193   0.7360623  -0.3916892\n",
            "  0.33471447  1.1447508   0.57564414  0.20260687  0.472679    1.1229506\n",
            " -1.0026025  -0.7930292   0.17806065 -3.2498894  -0.10784678 -1.0287619\n",
            "  0.10549242  1.5348873 ]\n",
            "------------------------------------\n",
            "R: \n",
            "[1. 1. 1. 1. 1. 1. 1. 1. 1. 1. 1. 1. 1. 1. 1. 1. 1. 1. 1. 1. 1. 1. 1. 1.\n",
            " 1. 1. 1. 1. 1. 1. 1. 1. 1. 1. 1. 1. 1. 1. 1. 1. 1. 1. 1. 1. 1. 1. 1. 1.\n",
            " 1. 1.]\n",
            "Cantidad de elementos:  50\n",
            "Thread x:  256 , Bloque x: 1\n",
            "Tiempo CPU:  6.485 [ms]\n",
            "Tiempo GPU:  1.343 [ms]\n"
          ],
          "name": "stdout"
        }
      ]
    },
    {
      "cell_type": "markdown",
      "metadata": {
        "id": "sChMbfn8vgG1"
      },
      "source": [
        "#4. Tabla de pasos\n",
        "\n",
        "Paso | Procesador | Funcion | Detalle\n",
        "------------ | ------------ | ------------- | -------------\n",
        "1 | CPU | @param | Lectura del tamaño de vector de Colab.\n",
        "2 | CPU | import | Importa los módulos para funcionar.\n",
        "3 | CPU | datetime.now() | Toma el tiempo actual.\n",
        "4 | CPU | np.random.randint(0, 10, size = cantidad_elementos) | Inicializa el vector _vector_resultados_ con puntajes (de 0 a 9) aleatorios en cada elemento, en una cantidad de elementos ingresada en el paso 1.\n",
        "5 | CPU | [0 for i in range(10)] | inicializo el vector frecuencia a 0, este vector representará en cada posición el valor del puntaje (entre 0 y 9) y su contenido representará la cantidad de apariciónes en el vector resultados. Por esta razon es necesario inicializarlo a cero, para luego sumar las frecuencias.\n",
        "6 | CPU | print | muestro los valores del vector_resultados\n",
        "7 | CPU | bucle for | contabilizo las frecuencias de puntajes en el vector_resultados.\n",
        "8 | CPU | print | imprimo los resultados del vector frecuencia\n",
        "9 | CPU | bucle for | obtengo el valor de la moda y la cantidad de repeticiones.\n",
        "10 | CPU | print | muestro los resultados\n",
        "11 | CPU | print | informo tiempos de ejecución."
      ]
    },
    {
      "cell_type": "markdown",
      "metadata": {
        "id": "VX-0yKX0vnTY"
      },
      "source": [
        "#5. Conclusiones\n",
        "\n",
        "TODO: Preparar y correr cuaderno en gpu y realizar comparación....."
      ]
    },
    {
      "cell_type": "markdown",
      "metadata": {
        "id": "aNOtiJKMvvxm"
      },
      "source": [
        "#6. Bibliografía\n",
        "\n",
        "[1] MARKDOWN SYNTAX Colab: PDF\n",
        "\n",
        "[2] Introducción a Python: Página Colab\n",
        "\n",
        "[3] Como Programar en C C++ y Java 4ta Edición Harvey M. Deitel & Paul J. Deitel \n",
        "\n",
        "[4] Biblioteca BLAS: Referencia\n",
        "\n",
        "[5] Documentación PyCUDA: WEB\n",
        "\n",
        "[6] Repositorio de PyCUDA: WEB"
      ]
    }
  ]
}