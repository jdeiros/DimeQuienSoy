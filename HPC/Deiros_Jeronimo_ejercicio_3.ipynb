{
  "nbformat": 4,
  "nbformat_minor": 0,
  "metadata": {
    "colab": {
      "name": "Deiros_Jeronimo_ejercicio_3.ipynb",
      "provenance": [],
      "authorship_tag": "ABX9TyMJB1ieWS3hvEsjrDp46GaN",
      "include_colab_link": true
    },
    "kernelspec": {
      "name": "python3",
      "display_name": "Python 3"
    }
  },
  "cells": [
    {
      "cell_type": "markdown",
      "metadata": {
        "id": "view-in-github",
        "colab_type": "text"
      },
      "source": [
        "<a href=\"https://colab.research.google.com/github/jdeiros/soa-2020/blob/master/HPC/Deiros_Jeronimo_ejercicio_3.ipynb\" target=\"_parent\"><img src=\"https://colab.research.google.com/assets/colab-badge.svg\" alt=\"Open In Colab\"/></a>"
      ]
    },
    {
      "cell_type": "markdown",
      "metadata": {
        "id": "EO0qmEInuPVb"
      },
      "source": [
        "#1.Ejemplo de OpenMP (Hola Mundo)"
      ]
    },
    {
      "cell_type": "code",
      "metadata": {
        "id": "umGzRyK-tiZB"
      },
      "source": [
        "# Codigo Python, que tiene el código C en una cadena, que es guardada en el archivo code.cpp.\n",
        "code = \"\"\"\n",
        "// Hola Mundo desde OpenMP, usando c, ejecutado en Colab. \n",
        "\n",
        "#include <iostream>\n",
        "#include <vector>\n",
        "#include <omp.h>    // Cabecera OpenMP   \n",
        "  \n",
        "int main(int argc, char* argv[]) \n",
        "{\n",
        "    std::cout<<\"Inicio...\"<<std::endl;\n",
        "\n",
        "    // Region paralela\n",
        "    #pragma omp parallel\n",
        "    { \n",
        "        std::cout<<\"Hola mundo!!!... soy el hilo \" << omp_get_thread_num()<< \", de \"<<  omp_get_num_threads() <<\", procesadores \"<< omp_get_num_procs()<< std::endl;  \n",
        "    }\n",
        "    // Region paralela\n",
        "\n",
        "    std::cout<<\"Fin...\"<<std::endl;\n",
        "}\n",
        "\"\"\"\n",
        "text_file = open(\"code.cpp\", \"w\")\n",
        "text_file.write(code)\n",
        "text_file.close()"
      ],
      "execution_count": 2,
      "outputs": []
    },
    {
      "cell_type": "markdown",
      "metadata": {
        "id": "assqImv1uWeI"
      },
      "source": [
        "#1.1.Compilación de código C Hola Mundo."
      ]
    },
    {
      "cell_type": "code",
      "metadata": {
        "id": "ZaHlQP2nuWKY"
      },
      "source": [
        "!g++ -o hello -fopenmp code.cpp"
      ],
      "execution_count": 3,
      "outputs": []
    },
    {
      "cell_type": "markdown",
      "metadata": {
        "id": "19x3DolsucnF"
      },
      "source": [
        "\n",
        "#1.2.Ejecución Hola Mundo en OpenMP"
      ]
    },
    {
      "cell_type": "code",
      "metadata": {
        "id": "DgoRJ5ZYuZ8O",
        "outputId": "b36cd66d-108a-49af-8a98-67e0dbec36c2",
        "colab": {
          "base_uri": "https://localhost:8080/"
        }
      },
      "source": [
        "%env OMP_NUM_THREADS=7\n",
        "!./hello"
      ],
      "execution_count": 5,
      "outputs": [
        {
          "output_type": "stream",
          "text": [
            "env: OMP_NUM_THREADS=7\n",
            "Inicio...\n",
            "Hola mundo!!!... soy el hilo 2, de 7, procesadores 2\n",
            "Hola mundo!!!... soy el hilo 0, de 7, procesadores 2\n",
            "Hola mundo!!!... soy el hilo 6, de 7, procesadores 2\n",
            "Hola mundo!!!... soy el hilo 5, de 7, procesadores 2\n",
            "Hola mundo!!!... soy el hilo 4, de 7, procesadores 2\n",
            "Hola mundo!!!... soy el hilo Hola mundo!!!... soy el hilo 3, de 7, procesadores 2\n",
            "1, de 7, procesadores 2\n",
            "Fin...\n"
          ],
          "name": "stdout"
        }
      ]
    },
    {
      "cell_type": "code",
      "metadata": {
        "id": "2cJnJiVWuf_1",
        "outputId": "bc86b31d-2fc9-4260-b722-b5238f0ccc48",
        "colab": {
          "base_uri": "https://localhost:8080/"
        }
      },
      "source": [
        "!cat /proc/cpuinfo"
      ],
      "execution_count": 6,
      "outputs": [
        {
          "output_type": "stream",
          "text": [
            "processor\t: 0\n",
            "vendor_id\t: GenuineIntel\n",
            "cpu family\t: 6\n",
            "model\t\t: 79\n",
            "model name\t: Intel(R) Xeon(R) CPU @ 2.20GHz\n",
            "stepping\t: 0\n",
            "microcode\t: 0x1\n",
            "cpu MHz\t\t: 2200.000\n",
            "cache size\t: 56320 KB\n",
            "physical id\t: 0\n",
            "siblings\t: 2\n",
            "core id\t\t: 0\n",
            "cpu cores\t: 1\n",
            "apicid\t\t: 0\n",
            "initial apicid\t: 0\n",
            "fpu\t\t: yes\n",
            "fpu_exception\t: yes\n",
            "cpuid level\t: 13\n",
            "wp\t\t: yes\n",
            "flags\t\t: fpu vme de pse tsc msr pae mce cx8 apic sep mtrr pge mca cmov pat pse36 clflush mmx fxsr sse sse2 ss ht syscall nx pdpe1gb rdtscp lm constant_tsc rep_good nopl xtopology nonstop_tsc cpuid tsc_known_freq pni pclmulqdq ssse3 fma cx16 pcid sse4_1 sse4_2 x2apic movbe popcnt aes xsave avx f16c rdrand hypervisor lahf_lm abm 3dnowprefetch invpcid_single ssbd ibrs ibpb stibp fsgsbase tsc_adjust bmi1 hle avx2 smep bmi2 erms invpcid rtm rdseed adx smap xsaveopt arat md_clear arch_capabilities\n",
            "bugs\t\t: cpu_meltdown spectre_v1 spectre_v2 spec_store_bypass l1tf mds swapgs taa\n",
            "bogomips\t: 4400.00\n",
            "clflush size\t: 64\n",
            "cache_alignment\t: 64\n",
            "address sizes\t: 46 bits physical, 48 bits virtual\n",
            "power management:\n",
            "\n",
            "processor\t: 1\n",
            "vendor_id\t: GenuineIntel\n",
            "cpu family\t: 6\n",
            "model\t\t: 79\n",
            "model name\t: Intel(R) Xeon(R) CPU @ 2.20GHz\n",
            "stepping\t: 0\n",
            "microcode\t: 0x1\n",
            "cpu MHz\t\t: 2200.000\n",
            "cache size\t: 56320 KB\n",
            "physical id\t: 0\n",
            "siblings\t: 2\n",
            "core id\t\t: 0\n",
            "cpu cores\t: 1\n",
            "apicid\t\t: 1\n",
            "initial apicid\t: 1\n",
            "fpu\t\t: yes\n",
            "fpu_exception\t: yes\n",
            "cpuid level\t: 13\n",
            "wp\t\t: yes\n",
            "flags\t\t: fpu vme de pse tsc msr pae mce cx8 apic sep mtrr pge mca cmov pat pse36 clflush mmx fxsr sse sse2 ss ht syscall nx pdpe1gb rdtscp lm constant_tsc rep_good nopl xtopology nonstop_tsc cpuid tsc_known_freq pni pclmulqdq ssse3 fma cx16 pcid sse4_1 sse4_2 x2apic movbe popcnt aes xsave avx f16c rdrand hypervisor lahf_lm abm 3dnowprefetch invpcid_single ssbd ibrs ibpb stibp fsgsbase tsc_adjust bmi1 hle avx2 smep bmi2 erms invpcid rtm rdseed adx smap xsaveopt arat md_clear arch_capabilities\n",
            "bugs\t\t: cpu_meltdown spectre_v1 spectre_v2 spec_store_bypass l1tf mds swapgs taa\n",
            "bogomips\t: 4400.00\n",
            "clflush size\t: 64\n",
            "cache_alignment\t: 64\n",
            "address sizes\t: 46 bits physical, 48 bits virtual\n",
            "power management:\n",
            "\n"
          ],
          "name": "stdout"
        }
      ]
    },
    {
      "cell_type": "markdown",
      "metadata": {
        "id": "fa4NZQk5uyEm"
      },
      "source": [
        "OTRO"
      ]
    },
    {
      "cell_type": "code",
      "metadata": {
        "id": "4EQHubXwul6O"
      },
      "source": [
        "# Codigo Python, que tiene el código C de la ejecución Axpy.\n",
        "code = \"\"\"\n",
        "#include <iostream>\n",
        "#include <vector>\n",
        "#include <cstdlib>\n",
        "#include <sys/time.h>\n",
        "#include <omp.h>    // Cabecera OpenMP   \n",
        "\n",
        "// ----------------------------------------------------------------------------\n",
        "// Macros que miden el tiempo.\n",
        "\n",
        "static double dHashTiempoHistory[3];\n",
        "static struct timeval tv;\n",
        "\n",
        "#define TIEMPO_INI( h )      \\\n",
        "   gettimeofday(&tv,NULL);   \\\n",
        "   dHashTiempoHistory[ h ] = tv.tv_sec + tv.tv_usec/1000000.0;\n",
        "   \n",
        "   \n",
        "#define TIEMPO_FIN( h )      \\\n",
        "   gettimeofday(&tv,NULL);   \\\n",
        "   dHashTiempoHistory[ h ] = ((tv.tv_sec + tv.tv_usec/1000000.0) - dHashTiempoHistory[ h ]) * 1000; // Devuelvo en milisegundos\n",
        "#define TIEMPO_GET( h ) dHashTiempoHistory[ h ]\n",
        "\n",
        "#define HTH_TOTAL         1\n",
        "#define HTH_AXPY_SEC      2\n",
        "#define HTH_AXPY_OMP      3\n",
        "\n",
        "// ----------------------------------------------------------------------------\n",
        "\n",
        "int main(int argc, char* argv[]) \n",
        "{ \n",
        "  int i,c;\n",
        "  TIEMPO_INI( HTH_TOTAL )\n",
        "\n",
        "  // Leo los parametros.\n",
        "  if( argc != 4 )\n",
        "  {\n",
        "      std::cerr<< \" Error en los parametros de indicar: (alfa), (Tamanio vector), (ciclos ejecucion).\"<<argc<<std::endl;\n",
        "      exit( -1 );\n",
        "  }\n",
        "\n",
        "  float alfa     = atof( argv[1] );\n",
        "  int cantidad_N = atoi( argv[2] );\n",
        "  int ciclos     = atoi( argv[3] );\n",
        "  double suma1 = 0;\n",
        "  double suma2 = 0;\n",
        "  // --------------------------------------------\n",
        "  // Defino la memoria de los vectores.\n",
        "\n",
        "  std::vector<double> X( cantidad_N );\n",
        "  std::vector<double> Y( cantidad_N );\n",
        "\n",
        "  for (int i=0;i<X.size();i++)\n",
        "  {\n",
        "    X[i] = (rand()/(double)RAND_MAX)*0.73;\n",
        "    Y[i] = (rand()/(double)RAND_MAX)*0.73;\n",
        "  }\n",
        "\n",
        "  // --------------------------------------------\n",
        "  // Realizo la función Axpy en forma secuencial.\n",
        "\n",
        "  TIEMPO_INI( HTH_AXPY_SEC )\n",
        "\n",
        "  for(c=0;c<ciclos;c++)\n",
        "  {\n",
        "    for(i=0;i<Y.size();i++)\n",
        "    {\n",
        "      suma1 += X[i] + Y[i];\n",
        "    }\n",
        "  }\n",
        "\n",
        "  TIEMPO_FIN( HTH_AXPY_SEC )\n",
        "\n",
        "  // --------------------------------------------\n",
        "  // Realizo la función Axpy con OpenMP.\n",
        "\n",
        "  TIEMPO_INI( HTH_AXPY_OMP )\n",
        "\n",
        "  for(c=0;c<ciclos;c++)\n",
        "  {\n",
        "    #pragma omp parallel for\n",
        "    for(i=0;i<Y.size();i++)\n",
        "    {\n",
        "      suma2 += X[i] + Y[i];\n",
        "    }\n",
        "  }\n",
        "\n",
        "  TIEMPO_FIN( HTH_AXPY_OMP )\n",
        "\n",
        "  // --------------------------------------------\n",
        "  // Muestro los resultados.\n",
        "\n",
        "  std::cout<<\" X : [\"; \n",
        "  for(i=0;i<X.size();i++)\n",
        "  {\n",
        "    std::cout<<X[i]<< \", \";\n",
        "  }\n",
        "  std::cout<<\"]\"<<std::endl; \n",
        "\n",
        "  std::cout<<\" Y : [\"; \n",
        "  for(i=0;i<Y.size();i++)\n",
        "  {\n",
        "    std::cout<<Y[i]<< \", \";\n",
        "  }\n",
        "  std::cout<<\"]\"<<std::endl; \n",
        "\n",
        "  std::cout<<\"suma1: \"<<suma1<<std::endl; \n",
        "  std::cout<<\"suma2: \"<<suma2<<std::endl; \n",
        "\n",
        "  TIEMPO_FIN( HTH_TOTAL )\n",
        "\n",
        " std::cout<<\"Valores Reales  :\" <<std::endl;\n",
        " std::cout<<\"Tiempo TOTAL     : \"<<TIEMPO_GET(HTH_TOTAL   )<<\" [ms]\"<<std::endl;\n",
        " std::cout<<\"Tiempo axpy Sec  : \"<<TIEMPO_GET(HTH_AXPY_SEC)<<\" [ms]\"<<std::endl;\n",
        " std::cout<<\"Tiempo axpy Omp  : \"<<TIEMPO_GET(HTH_AXPY_OMP)<<\" [ms]\"<<std::endl;\n",
        " std::cout<<std::endl;\n",
        " std::cout<<\"SpeedUp          : (tiempo Secuencial/tiempo paralelo) : \"<<TIEMPO_GET(HTH_AXPY_SEC)<<\" / \"<<TIEMPO_GET(HTH_AXPY_OMP)<<\" = \"<<TIEMPO_GET(HTH_AXPY_SEC)/TIEMPO_GET(HTH_AXPY_OMP)<<std::endl;\n",
        " std::cout<<\"Eficiencia       : SpeedUp/nro procesadores            : \"<<TIEMPO_GET(HTH_AXPY_SEC)/TIEMPO_GET(HTH_AXPY_OMP)<<\" / \"<<omp_get_num_procs()<<\" = \"<<TIEMPO_GET(HTH_AXPY_SEC)/(omp_get_num_procs()*TIEMPO_GET(HTH_AXPY_OMP))<<std::endl;\n",
        " std::cout<<\"Coste Sec        : nro procesadores*Tiempo             : \"<<1<<\" * \"<<TIEMPO_GET(HTH_AXPY_SEC)<<\" = \"<<TIEMPO_GET(HTH_AXPY_SEC)<<std::endl;\n",
        " std::cout<<\"Coste Omp        : nro procesadores*Tiempo             : \"<<omp_get_num_procs()<<\" * \"<<TIEMPO_GET(HTH_AXPY_OMP)<<\" = \"<<omp_get_num_procs()*TIEMPO_GET(HTH_AXPY_OMP)<<std::endl;\n",
        " std::cout<<\"Funcion Overhead : Coste Omp - tiempo Secuencial       : \"<<omp_get_num_procs()*TIEMPO_GET(HTH_AXPY_OMP)<<\" - \"<<TIEMPO_GET(HTH_AXPY_SEC)<<\" = \"<<(omp_get_num_procs()*TIEMPO_GET(HTH_AXPY_OMP))-TIEMPO_GET(HTH_AXPY_SEC)<<std::endl;\n",
        "\n",
        "\n",
        " std::cout<<std::endl;\n",
        " std::cout<<\"Valores Ideal: \"<<std::endl;\n",
        " TIEMPO_GET(HTH_AXPY_OMP) = TIEMPO_GET(HTH_AXPY_SEC) / 2;\n",
        " std::cout<<\"Tiempo axpy Sec  : \"<<TIEMPO_GET(HTH_AXPY_SEC)<<\" [ms]\"<<std::endl;\n",
        " std::cout<<\"Tiempo axpy Omp  : \"<<TIEMPO_GET(HTH_AXPY_OMP)<<\" [ms]\"<<std::endl;\n",
        "\n",
        " std::cout<<\"SpeedUp          : (tiempo Secuencial/tiempo paralelo) : \"<<TIEMPO_GET(HTH_AXPY_SEC)<<\" / \"<<TIEMPO_GET(HTH_AXPY_OMP)<<\" = \"<<TIEMPO_GET(HTH_AXPY_SEC)/TIEMPO_GET(HTH_AXPY_OMP)<<std::endl;\n",
        " std::cout<<\"Eficiencia       : SpeedUp/nro procesadores            : \"<<TIEMPO_GET(HTH_AXPY_SEC)/TIEMPO_GET(HTH_AXPY_OMP)<<\" / \"<<omp_get_num_procs()<<\" = \"<<TIEMPO_GET(HTH_AXPY_SEC)/(omp_get_num_procs()*TIEMPO_GET(HTH_AXPY_OMP))<<std::endl;\n",
        " std::cout<<\"Coste Sec        : nro procesadores*Tiempo             : \"<<1<<\" * \"<<TIEMPO_GET(HTH_AXPY_SEC)<<\" = \"<<TIEMPO_GET(HTH_AXPY_SEC)<<std::endl;\n",
        " std::cout<<\"Coste Omp        : nro procesadores*Tiempo             : \"<<omp_get_num_procs()<<\" * \"<<TIEMPO_GET(HTH_AXPY_OMP)<<\" = \"<<omp_get_num_procs()*TIEMPO_GET(HTH_AXPY_OMP)<<std::endl;\n",
        " std::cout<<\"Funcion Overhead : Coste Omp - tiempo Secuencial       : \"<<omp_get_num_procs()*TIEMPO_GET(HTH_AXPY_OMP)<<\" - \"<<TIEMPO_GET(HTH_AXPY_SEC)<<\" = \"<<(omp_get_num_procs()*TIEMPO_GET(HTH_AXPY_OMP))-TIEMPO_GET(HTH_AXPY_SEC)<<std::endl;\n",
        "\n",
        "}\n",
        "// ----------------------------------------------------------------------------\n",
        "\"\"\"\n",
        "text_file = open(\"code_axpy.cpp\", \"w\")\n",
        "text_file.write(code)\n",
        "text_file.close()"
      ],
      "execution_count": 21,
      "outputs": []
    },
    {
      "cell_type": "code",
      "metadata": {
        "id": "xAepszksu0Yp"
      },
      "source": [
        "!g++ -o axpy -fopenmp code_axpy.cpp"
      ],
      "execution_count": 22,
      "outputs": []
    },
    {
      "cell_type": "code",
      "metadata": {
        "id": "qQPbGIlgu2MR",
        "outputId": "790b249e-a7b9-48fc-e3d0-d1571c99dfee",
        "colab": {
          "base_uri": "https://localhost:8080/"
        }
      },
      "source": [
        "%env OMP_NUM_THREADS=2\n",
        "!./axpy 1.0 50 20"
      ],
      "execution_count": 30,
      "outputs": [
        {
          "output_type": "stream",
          "text": [
            "env: OMP_NUM_THREADS=2\n",
            " X : [0.613337, 0.571662, 0.665503, 0.244713, 0.202776, 0.3485, 0.266293, 0.695128, 0.46407, 0.10337, 0.0118994, 0.100179, 0.114376, 0.094747, 0.729215, 0.374441, 0.447227, 0.465413, 0.360316, 0.213537, 0.384524, 0.292167, 0.20682, 0.589639, 0.0509214, 0.383977, 0.140316, 0.64987, 0.0468451, 0.334122, 0.173944, 0.658612, 0.194666, 0.273901, 0.374151, 0.388073, 0.319475, 0.679491, 0.207534, 0.467185, 0.502139, 0.321276, 0.605317, 0.167147, 0.255763, 0.698222, 0.479832, 0.320879, 0.290859, 0.49948, ]\n",
            " Y : [0.2879, 0.582861, 0.144212, 0.560808, 0.404398, 0.459076, 0.374783, 0.668822, 0.523627, 0.443087, 0.177307, 0.587049, 0.292689, 0.0794304, 0.159328, 0.612552, 0.216103, 0.38273, 0.710126, 0.563091, 0.562037, 0.650816, 0.257295, 0.670889, 0.693009, 0.0628208, 0.484156, 0.254692, 0.0146168, 0.04606, 0.708563, 0.621171, 0.394025, 0.554982, 0.487438, 0.0286747, 0.68024, 0.526295, 0.53913, 0.258456, 0.121161, 0.642455, 0.241146, 0.652162, 0.501269, 0.429707, 0.626834, 0.674498, 0.59478, 0.66501, ]\n",
            "suma1: 798.364\n",
            "suma2: 798.364\n",
            "Valores Reales  :\n",
            "Tiempo TOTAL     : 0.285864 [ms]\n",
            "Tiempo axpy Sec  : 0.00905991 [ms]\n",
            "Tiempo axpy Omp  : 0.128984 [ms]\n",
            "\n",
            "SpeedUp          : (tiempo Secuencial/tiempo paralelo) : 0.00905991 / 0.128984 = 0.0702403\n",
            "Eficiencia       : SpeedUp/nro procesadores            : 0.0702403 / 2 = 0.0351201\n",
            "Coste Sec        : nro procesadores*Tiempo             : 1 * 0.00905991 = 0.00905991\n",
            "Coste Omp        : nro procesadores*Tiempo             : 2 * 0.128984 = 0.257969\n",
            "Funcion Overhead : Coste Omp - tiempo Secuencial       : 0.257969 - 0.00905991 = 0.248909\n",
            "\n",
            "Valores Ideal: \n",
            "Tiempo axpy Sec  : 0.00905991 [ms]\n",
            "Tiempo axpy Omp  : 0.00452995 [ms]\n",
            "SpeedUp          : (tiempo Secuencial/tiempo paralelo) : 0.00905991 / 0.00452995 = 2\n",
            "Eficiencia       : SpeedUp/nro procesadores            : 2 / 2 = 1\n",
            "Coste Sec        : nro procesadores*Tiempo             : 1 * 0.00905991 = 0.00905991\n",
            "Coste Omp        : nro procesadores*Tiempo             : 2 * 0.00452995 = 0.00905991\n",
            "Funcion Overhead : Coste Omp - tiempo Secuencial       : 0.00905991 - 0.00905991 = 0\n"
          ],
          "name": "stdout"
        }
      ]
    },
    {
      "cell_type": "code",
      "metadata": {
        "id": "CfGaosI0u4ja"
      },
      "source": [
        ""
      ],
      "execution_count": null,
      "outputs": []
    }
  ]
}