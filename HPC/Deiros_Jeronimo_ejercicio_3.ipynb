{
  "nbformat": 4,
  "nbformat_minor": 0,
  "metadata": {
    "colab": {
      "name": "Deiros_Jeronimo_ejercicio_3.ipynb",
      "provenance": [],
      "authorship_tag": "ABX9TyPQPuq4yLq9WwwHlCBUICj5",
      "include_colab_link": true
    },
    "kernelspec": {
      "name": "python3",
      "display_name": "Python 3"
    }
  },
  "cells": [
    {
      "cell_type": "markdown",
      "metadata": {
        "id": "view-in-github",
        "colab_type": "text"
      },
      "source": [
        "<a href=\"https://colab.research.google.com/github/jdeiros/soa-2020/blob/master/HPC/Deiros_Jeronimo_ejercicio_3.ipynb\" target=\"_parent\"><img src=\"https://colab.research.google.com/assets/colab-badge.svg\" alt=\"Open In Colab\"/></a>"
      ]
    },
    {
      "cell_type": "markdown",
      "metadata": {
        "id": "assqImv1uWeI"
      },
      "source": [
        "#1. Introducción\n",
        "Por lo general, las computadoras se utilizan para compilar y analizar los resultados de encuestas y estudios de opinión.\n",
        "\n",
        "El siguiente cuaderno calcula la media y la moda de los N valores de los elementos de un vector (resultados), lo hace en forma secuencial y en tambien en paralelo utilizando la biblioteca omp en el lenguaje C, que corre en la plataforma Colab ejecutado desde codigo python. \n",
        "\n",
        "Cada elemento del vector se inicializa con resultados aleatorios de puntajes (numeros enteros entre 0 y 9).\n",
        "\n",
        "El algoritmo para el calculo de la media y la moda se basa en un ejemplo práctico del libro \"C/C++ Cómo Programar\"[1]\n",
        "\n",
        "Su objetivo es aprender a utilizar Python[2] en la plataforma Colab [3] y la programación secuencial y en paralelo con openMP.\n"
      ]
    },
    {
      "cell_type": "markdown",
      "metadata": {
        "id": "JeeLvwNR7kUn"
      },
      "source": [
        "#2. Armado de ambiente\n",
        "No es necesario para este ejercicio."
      ]
    },
    {
      "cell_type": "markdown",
      "metadata": {
        "id": "r12TsGW174hk"
      },
      "source": [
        "#3. Desarrollo"
      ]
    },
    {
      "cell_type": "markdown",
      "metadata": {
        "id": "9UXL88Lm8OS2"
      },
      "source": [
        "## 3.1 Creación en python del archivo que tiene el codigo C para la ejecución del programa encuesta."
      ]
    },
    {
      "cell_type": "code",
      "metadata": {
        "id": "4EQHubXwul6O"
      },
      "source": [
        "# Codigo Python, que tiene el código C de la ejecución del programa encuesta.\n",
        "code = \"\"\"\n",
        "#include <iostream>\n",
        "#include <vector>\n",
        "#include <cstdlib>\n",
        "#include <sys/time.h>\n",
        "#include <omp.h>\n",
        "\n",
        "// ----------------------------------------------------------------------------\n",
        "// Macros que miden el tiempo.\n",
        "\n",
        "static double dHashTiempoHistory[3];\n",
        "static struct timeval tv;\n",
        "\n",
        "#define TIEMPO_INI( h )      \\\n",
        "   gettimeofday(&tv,NULL);   \\\n",
        "   dHashTiempoHistory[ h ] = tv.tv_sec + tv.tv_usec/1000000.0;\n",
        "   \n",
        "   \n",
        "#define TIEMPO_FIN( h )      \\\n",
        "   gettimeofday(&tv,NULL);   \\\n",
        "   dHashTiempoHistory[ h ] = ((tv.tv_sec + tv.tv_usec/1000000.0) - dHashTiempoHistory[ h ]) * 1000; // Devuelvo en milisegundos\n",
        "#define TIEMPO_GET( h ) dHashTiempoHistory[ h ]\n",
        "\n",
        "#define HTH_TOTAL         1\n",
        "#define HTH_MODA_SEC      2\n",
        "#define HTH_MODA_OMP      3\n",
        "#define RANGO_PUNTAJES    10\n",
        "// ----------------------------------------------------------------------------\n",
        "\n",
        "int main(int argc, char* argv[]) \n",
        "{ \n",
        "\tint i,c;\n",
        "\tTIEMPO_INI( HTH_TOTAL )\n",
        "\n",
        "\t// Leo los parametros.\n",
        "\tif( argc != 2 )\n",
        "\t{\n",
        "\t\tstd::cerr<< \" Error en los parametros de indicar: (Tamanio vector resultados).\"<<argc<<std::endl;\n",
        "\t\texit( -1 );\n",
        "\t}\n",
        "\n",
        "\tint cantidad_elementos = atoi( argv[1] );\t\n",
        "\tdouble sumatoria_secuencial = 0;\n",
        "\tdouble sumatoria_paralelo = 0;\n",
        "\t// --------------------------------------------\n",
        "\t// Defino la memoria de los vectores.\n",
        "\tstd::vector<int> resultados(cantidad_elementos);\n",
        "\tstd::vector<int> frecuencias_secuencial( RANGO_PUNTAJES );\n",
        "\tstd::vector<int> frecuencias_paralelo( RANGO_PUNTAJES );\n",
        "\n",
        "\t//Inicializo en cero los vectores de frecuencias\n",
        "\tfor(int i=0; i < frecuencias_secuencial.size(); i++)\n",
        "\t\tfrecuencias_secuencial[i]=0;\n",
        "\tfor(int i=0; i < frecuencias_paralelo.size(); i++)\n",
        "\t\tfrecuencias_paralelo[i]=0;\n",
        "\n",
        "\t//Cargo los puntajes aleatorios (0 a 9) en cada elemento del vector resultados.\n",
        "\tsrand ( time(NULL) );\n",
        "\tfor (int i=0;i<resultados.size();i++)\n",
        "\t\tresultados[i] = (int)(rand()%RANGO_PUNTAJES);\n",
        "\n",
        "\t// --------------------------------------------\n",
        "\t// Realizo el calculo de frecuencias y la sumatoria en forma secuencial.\n",
        "\n",
        "\tTIEMPO_INI( HTH_MODA_SEC )\n",
        "\tfor(i=0;i < resultados.size(); i++)\n",
        "\t{\n",
        "\t\tsumatoria_secuencial += resultados[i];\n",
        "\t\t++frecuencias_secuencial[resultados[i]];\n",
        "\t}\n",
        "\tTIEMPO_FIN( HTH_MODA_SEC )\n",
        "\n",
        "\t// --------------------------------------------\n",
        "\t// Realizo el calculo de frecuencias y la sumatoria con OMP.\n",
        "\n",
        "\tTIEMPO_INI( HTH_MODA_OMP )\n",
        "\n",
        "\t#pragma omp parallel for\n",
        "\tfor(i=0;i<resultados.size();i++)\n",
        "\t{\n",
        "\t\tsumatoria_paralelo += resultados[i];\n",
        "\t\t++frecuencias_paralelo[resultados[i]];\n",
        "\t}\n",
        "\tTIEMPO_FIN( HTH_MODA_OMP )\n",
        "\t\n",
        "\t\n",
        "\t// Obtengo la moda del vector_frecuencias obtenido secuencialmente\n",
        "\tint mas_grande_secuencial = 0;\n",
        "\tint valor_moda_secuencial = 0;\n",
        "\tfor(i=0; i < frecuencias_secuencial.size(); i++)\n",
        "\t{\n",
        "\t\tif(frecuencias_secuencial[i] > mas_grande_secuencial)\n",
        "\t\t{\n",
        "\t\t\tmas_grande_secuencial += frecuencias_secuencial[i];\n",
        "\t\t\tvalor_moda_secuencial = i;\n",
        "\t\t}\n",
        "\t}\n",
        "\t\n",
        "\t// Obtengo la moda del vector_frecuencias obtenido en forma paralela con omp\n",
        "\tint mas_grande_paralelo = 0;\n",
        "\tint valor_moda_paralelo = 0;\n",
        "\tfor(i=0; i < frecuencias_paralelo.size(); i++)\n",
        "\t{\n",
        "\t\tif(frecuencias_paralelo[i] > mas_grande_paralelo)\n",
        "\t\t{\n",
        "\t\t\tmas_grande_paralelo += frecuencias_paralelo[i];\n",
        "\t\t\tvalor_moda_paralelo = i;\n",
        "\t\t}\n",
        "\t}\n",
        "\t\n",
        "\t// --------------------------------------------\n",
        "\t// Muestro los resultados.\n",
        "\tstd::cout<< \"****************************************************************************************\" <<std::endl;\n",
        "\t\n",
        "\tstd::cout<<\"resultados : [\"; \n",
        "\tfor(i=0;i<resultados.size();i++)\n",
        "\t{\n",
        "\t\tstd::cout<<resultados[i]<< \", \";\n",
        "\t}\n",
        "\tstd::cout<<\"]\"<<std::endl; \n",
        "\n",
        "\tstd::cout<<\"frecuencias_secuencial : [\";\n",
        "\tfor(i=0;i<frecuencias_secuencial.size();i++)\n",
        "\t{\n",
        "\t\tstd::cout<<frecuencias_secuencial[i]<< \", \";\n",
        "\t}\n",
        "\tstd::cout<<\"]\"<<std::endl; \n",
        "\n",
        "\tstd::cout<<\"frecuencias_paralelo : [\";\n",
        "\tfor(i=0;i<frecuencias_paralelo.size();i++)\n",
        "\t{\n",
        "\t\tstd::cout<<frecuencias_paralelo[i] << \", \";\n",
        "\t}\n",
        "\tstd::cout<<\"]\"<<std::endl; \n",
        "\n",
        "\tstd::cout<<\"sumatoria_secuencial: \"<<sumatoria_secuencial<<std::endl;\n",
        "\tstd::cout<<\"media_secuencial: \"<<sumatoria_secuencial/cantidad_elementos<<std::endl;\n",
        "\tstd::cout<<\"sumatoria_paralelo: \"<<sumatoria_paralelo<<std::endl; \n",
        "\tstd::cout<<\"media_paralelo: \"<<sumatoria_paralelo/cantidad_elementos<<std::endl;\n",
        "\t\n",
        "\tstd::cout<<\"mas_grande_secuencial: \"<<mas_grande_secuencial<<std::endl; \n",
        "\tstd::cout<<\"valor_moda_secuencial: \"<<valor_moda_secuencial<<std::endl;\n",
        "\tstd::cout<<\"mas_grande_paralelo: \"<<mas_grande_paralelo<<std::endl; \n",
        "\tstd::cout<<\"valor_moda_paralelo: \"<<valor_moda_paralelo<<std::endl;\n",
        "\n",
        "\tTIEMPO_FIN( HTH_TOTAL )\n",
        "\t\n",
        "\tstd::cout<<\"****************************************************************************************\" <<std::endl;\n",
        "\tstd::cout<<\"Valores Reales  :\" <<std::endl;\n",
        "\tstd::cout<<\"Tiempo TOTAL     : \"<<TIEMPO_GET(HTH_TOTAL   )<<\" [ms]\"<<std::endl;\n",
        "\tstd::cout<<\"Tiempo encuesta Sec  : \"<<TIEMPO_GET(HTH_MODA_SEC)<<\" [ms]\"<<std::endl;\n",
        "\tstd::cout<<\"Tiempo encuesta Omp  : \"<<TIEMPO_GET(HTH_MODA_OMP)<<\" [ms]\"<<std::endl;\n",
        "\tstd::cout<<std::endl;\n",
        "\tstd::cout<<\"SpeedUp          : (tiempo Secuencial/tiempo paralelo) : \"<<TIEMPO_GET(HTH_MODA_SEC)<<\" / \"<<TIEMPO_GET(HTH_MODA_OMP)<<\" = \"<<TIEMPO_GET(HTH_MODA_SEC)/TIEMPO_GET(HTH_MODA_OMP)<<std::endl;\n",
        "\tstd::cout<<\"Eficiencia       : SpeedUp/nro procesadores            : \"<<TIEMPO_GET(HTH_MODA_SEC)/TIEMPO_GET(HTH_MODA_OMP)<<\" / \"<<omp_get_num_procs()<<\" = \"<<TIEMPO_GET(HTH_MODA_SEC)/(omp_get_num_procs()*TIEMPO_GET(HTH_MODA_OMP))<<std::endl;\n",
        "\tstd::cout<<\"Coste Sec        : nro procesadores*Tiempo             : \"<<1<<\" * \"<<TIEMPO_GET(HTH_MODA_SEC)<<\" = \"<<TIEMPO_GET(HTH_MODA_SEC)<<std::endl;\n",
        "\tstd::cout<<\"Coste Omp        : nro procesadores*Tiempo             : \"<<omp_get_num_procs()<<\" * \"<<TIEMPO_GET(HTH_MODA_OMP)<<\" = \"<<omp_get_num_procs()*TIEMPO_GET(HTH_MODA_OMP)<<std::endl;\n",
        "\tstd::cout<<\"Funcion Overhead : Coste Omp - tiempo Secuencial       : \"<<omp_get_num_procs()*TIEMPO_GET(HTH_MODA_OMP)<<\" - \"<<TIEMPO_GET(HTH_MODA_SEC)<<\" = \"<<(omp_get_num_procs()*TIEMPO_GET(HTH_MODA_OMP))-TIEMPO_GET(HTH_MODA_SEC)<<std::endl;\n",
        "\n",
        "\n",
        "\tstd::cout<<std::endl;\n",
        "\tstd::cout<<\"Valores Ideal: \"<<std::endl;\n",
        "\tTIEMPO_GET(HTH_MODA_OMP) = TIEMPO_GET(HTH_MODA_SEC) / 2;\n",
        "\tstd::cout<<\"Tiempo encuesta Sec  : \"<<TIEMPO_GET(HTH_MODA_SEC)<<\" [ms]\"<<std::endl;\n",
        "\tstd::cout<<\"Tiempo encuesta Omp  : \"<<TIEMPO_GET(HTH_MODA_OMP)<<\" [ms]\"<<std::endl;\n",
        "\n",
        "\tstd::cout<<\"SpeedUp          : (tiempo Secuencial/tiempo paralelo) : \"<<TIEMPO_GET(HTH_MODA_SEC)<<\" / \"<<TIEMPO_GET(HTH_MODA_OMP)<<\" = \"<<TIEMPO_GET(HTH_MODA_SEC)/TIEMPO_GET(HTH_MODA_OMP)<<std::endl;\n",
        "\tstd::cout<<\"Eficiencia       : SpeedUp/nro procesadores            : \"<<TIEMPO_GET(HTH_MODA_SEC)/TIEMPO_GET(HTH_MODA_OMP)<<\" / \"<<omp_get_num_procs()<<\" = \"<<TIEMPO_GET(HTH_MODA_SEC)/(omp_get_num_procs()*TIEMPO_GET(HTH_MODA_OMP))<<std::endl;\n",
        "\tstd::cout<<\"Coste Sec        : nro procesadores*Tiempo             : \"<<1<<\" * \"<<TIEMPO_GET(HTH_MODA_SEC)<<\" = \"<<TIEMPO_GET(HTH_MODA_SEC)<<std::endl;\n",
        "\tstd::cout<<\"Coste Omp        : nro procesadores*Tiempo             : \"<<omp_get_num_procs()<<\" * \"<<TIEMPO_GET(HTH_MODA_OMP)<<\" = \"<<omp_get_num_procs()*TIEMPO_GET(HTH_MODA_OMP)<<std::endl;\n",
        "\tstd::cout<<\"Funcion Overhead : Coste Omp - tiempo Secuencial       : \"<<omp_get_num_procs()*TIEMPO_GET(HTH_MODA_OMP)<<\" - \"<<TIEMPO_GET(HTH_MODA_SEC)<<\" = \"<<(omp_get_num_procs()*TIEMPO_GET(HTH_MODA_OMP))-TIEMPO_GET(HTH_MODA_SEC)<<std::endl;\n",
        "\n",
        "}\n",
        "// ----------------------------------------------------------------------------\n",
        "\"\"\"\n",
        "text_file = open(\"code_encuesta.cpp\", \"w\")\n",
        "text_file.write(code)\n",
        "text_file.close()"
      ],
      "execution_count": 138,
      "outputs": []
    },
    {
      "cell_type": "markdown",
      "metadata": {
        "id": "caIoUIK06wbZ"
      },
      "source": [
        "## 3.2. Compilación de código C del programa encuesta"
      ]
    },
    {
      "cell_type": "code",
      "metadata": {
        "id": "xAepszksu0Yp"
      },
      "source": [
        "!g++ -o encuesta -fopenmp code_encuesta.cpp"
      ],
      "execution_count": 139,
      "outputs": []
    },
    {
      "cell_type": "markdown",
      "metadata": {
        "id": "xc_ZXjRX65gM"
      },
      "source": [
        "## 3.3. Ejecución del programa encuesta"
      ]
    },
    {
      "cell_type": "code",
      "metadata": {
        "colab": {
          "base_uri": "https://localhost:8080/"
        },
        "id": "qQPbGIlgu2MR",
        "outputId": "2e5612bf-424e-4de2-a5c8-f1dfd9e250ac"
      },
      "source": [
        "# --------------------------------------------\n",
        "#@title 3.3.1 Parámetros de ejecución { vertical-output: true }\n",
        "\n",
        "cantidad_elementos =   50#@param {type: \"number\"}\n",
        "# --------------------------------------------\n",
        "\n",
        "script_file = f\"./encuesta {cantidad_elementos}\"\n",
        "text_file = open(\"script_file.sh\", \"w\")\n",
        "text_file.write(script_file)\n",
        "text_file.close()\n",
        "\n",
        "%env OMP_NUM_THREADS=2\n",
        "\n",
        "!chmod 755 ./script_file.sh\n",
        "!./script_file.sh"
      ],
      "execution_count": 142,
      "outputs": [
        {
          "output_type": "stream",
          "text": [
            "env: OMP_NUM_THREADS=2\n",
            "****************************************************************************************\n",
            "resultados : [0, 0, 7, 7, 0, 0, 2, 2, 8, 9, 8, 3, 5, 4, 7, 7, 6, 1, 8, 9, 5, 0, 1, 5, 0, 7, 1, 8, 4, 4, 6, 6, 6, 3, 5, 6, 5, 8, 1, 3, 7, 1, 6, 3, 6, 3, 0, 2, 6, 0, ]\n",
            "frecuencias_secuencial : [8, 5, 3, 5, 3, 5, 8, 6, 5, 2, ]\n",
            "frecuencias_paralelo : [8, 5, 3, 5, 3, 5, 8, 6, 5, 2, ]\n",
            "sumatoria_secuencial: 211\n",
            "media_secuencial: 4.22\n",
            "sumatoria_paralelo: 211\n",
            "media_paralelo: 4.22\n",
            "mas_grande_secuencial: 8\n",
            "valor_moda_secuencial: 0\n",
            "mas_grande_paralelo: 8\n",
            "valor_moda_paralelo: 0\n",
            "****************************************************************************************\n",
            "Valores Reales  :\n",
            "Tiempo TOTAL     : 0.260115 [ms]\n",
            "Tiempo encuesta Sec  : 0 [ms]\n",
            "Tiempo encuesta Omp  : 0.0960827 [ms]\n",
            "\n",
            "SpeedUp          : (tiempo Secuencial/tiempo paralelo) : 0 / 0.0960827 = 0\n",
            "Eficiencia       : SpeedUp/nro procesadores            : 0 / 2 = 0\n",
            "Coste Sec        : nro procesadores*Tiempo             : 1 * 0 = 0\n",
            "Coste Omp        : nro procesadores*Tiempo             : 2 * 0.0960827 = 0.192165\n",
            "Funcion Overhead : Coste Omp - tiempo Secuencial       : 0.192165 - 0 = 0.192165\n",
            "\n",
            "Valores Ideal: \n",
            "Tiempo encuesta Sec  : 0 [ms]\n",
            "Tiempo encuesta Omp  : 0 [ms]\n",
            "SpeedUp          : (tiempo Secuencial/tiempo paralelo) : 0 / 0 = -nan\n",
            "Eficiencia       : SpeedUp/nro procesadores            : -nan / 2 = -nan\n",
            "Coste Sec        : nro procesadores*Tiempo             : 1 * 0 = 0\n",
            "Coste Omp        : nro procesadores*Tiempo             : 2 * 0 = 0\n",
            "Funcion Overhead : Coste Omp - tiempo Secuencial       : 0 - 0 = 0\n"
          ],
          "name": "stdout"
        }
      ]
    },
    {
      "cell_type": "markdown",
      "metadata": {
        "id": "oI4xSi2n8v92"
      },
      "source": [
        "#4. Tabla de pasos\n",
        "\n",
        "Paso | Procesador | Funcion | Detalle\n",
        "------------ | ------------ | ------------- | -------------\n",
        "1 | CPU | code = ... | definicion de la variable code que contiene el texto del programa en C.\n",
        "2 | CPU | open() | definicion de la variable usada para la creacion del archivo para escritura con el contenido del texto en la variable code.\n",
        "3 | CPU | .write(code) | creacion del archivo con el contenido del texto en la variable code.\n",
        "4 | CPU | .close(code) | cierra el archivo creado.\n",
        "5 | CPU | !g++ -o encuesta ... | comando shell para la compilación del archivo generado.\n",
        "6 | CPU | @param | Lectura del tamaño de vector de Colab.\n",
        "7 | CPU | script_file = ... | Creación de archivo .sh que contendrá el comando para la ejecución del programa junto con el parametro ingresado en el paso 6.\n",
        "8 | CPU | !chmod 755 ./script_file.sh | comando para otorgar permisos de lectura sobre el archivo creado para que permita su ejecucion.\n",
        "9 | CPU | !./script_file.sh | ejecución del programa a traves del archivo de script shell creado."
      ]
    },
    {
      "cell_type": "markdown",
      "metadata": {
        "id": "UKJY5jwn9HiX"
      },
      "source": [
        "#5. Conclusiones\n",
        "* ### 5.1 Medidas\n",
        "##### **Medidas de prestaciones en algoritmos paralelos**\n",
        "Las tecnicas de HPC buscan reducir los tiempos de ejecución, el tiempo como medida, no alcanza. Dos algoritmos pueden ejecutar en el mismo tiempo, pero uno de ellos usa menos procesadores [4,5].\n",
        "##### **SpeedUp**\n",
        "Referencia a la ganacia de velocidad que se consigue con un algoritmo paralelo, al resolver el mismo problema con respecto al algoritmo secuencial.\n",
        "##### **Eficiencia**\n",
        "La eficiencia normaliza el valor del SpeedUp, al dividirlo por la cantidad de procesadores que se utilizaron para alcanzar la ganacia en velocidad. Dando la idea de la porción de tiempo que los procesadores se dedican al trabajo útil.\n",
        "##### **Coste**\n",
        "El coste de un algoritmo paralelo representa el tiempo realizado por todo el sistema en la resoluciòn del problema.\n",
        "##### **Función Overhead**\n",
        "Es la diferencia entre el Coste y el tiempo secuencial. Mientras mayor es la función overhead, peor es el comportamiento del algoritmo paralelo.\n",
        "\n",
        "* ### 5.2 Breve repaso de los puntos mas relevantes del trabajo.\n",
        "\n",
        "* ### 5.3 Explicación sobre las lecciones aprendidas que deja el ejercicio.\n",
        "\n",
        "* ### 5.4 Sugerencias para continuar con el ejercicio (funcionalidad o algoritmo).\n",
        "\n"
      ]
    },
    {
      "cell_type": "markdown",
      "metadata": {
        "id": "AVpo2thV9Mah"
      },
      "source": [
        "#6. Bibliografía\n",
        "\n",
        "* [1] Como Programar en C C++ y Java 4ta Edición Harvey M. Deitel & Paul J. Deitel.\n",
        "* [2] Python Básico - SOA UNLaM: [Python Básico](https://github.com/wvaliente/SOA_HPC/blob/main/Documentos/Python_Basico.ipynb)\n",
        "* [3] Tutorial Point Colab: [Google Colab Tutorial](https://github.com/wvaliente/SOA_HPC/blob/main/Documentos/google_colab_tutorial.pdf)\n",
        "* [4] F. Almeida, D. Gimenéz, A. Vidal - Introducción a la programación paralela - 2008 - Editorial Parafino.\n",
        "* [5] D. Jiménez-González - Introducción a las arquitecturas paralelas. [pdf](http://so-unlam.com.ar/material-clase/HPC/Arquitecturas_de_computadores_avanzadas_(Modulo_1)"
      ]
    }
  ]
}