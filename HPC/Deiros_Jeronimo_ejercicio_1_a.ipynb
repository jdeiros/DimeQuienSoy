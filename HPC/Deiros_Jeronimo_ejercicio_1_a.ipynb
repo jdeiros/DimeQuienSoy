{
  "nbformat": 4,
  "nbformat_minor": 0,
  "metadata": {
    "colab": {
      "name": "Deiros_Jeronimo_ejercicio_1.a.ipynb",
      "provenance": [],
      "authorship_tag": "ABX9TyNU3qq/+iXUYRYldDerDaqH",
      "include_colab_link": true
    },
    "kernelspec": {
      "name": "python3",
      "display_name": "Python 3"
    }
  },
  "cells": [
    {
      "cell_type": "markdown",
      "metadata": {
        "id": "view-in-github",
        "colab_type": "text"
      },
      "source": [
        "<a href=\"https://colab.research.google.com/github/jdeiros/soa-2020/blob/master/HPC/Deiros_Jeronimo_ejercicio_1_a.ipynb\" target=\"_parent\"><img src=\"https://colab.research.google.com/assets/colab-badge.svg\" alt=\"Open In Colab\"/></a>"
      ]
    },
    {
      "cell_type": "markdown",
      "metadata": {
        "id": "3Mxv16c6F6Vv"
      },
      "source": [
        "#1. Introducción\n",
        "El siguiente cuaderno realiza la suma de dos vectores en forma secuencial, utilizando el procesador CPU. El algoritmo se basa en la función axpy [3] de nivel 1, de la biblioteca BLAS [4] que resuelve la ecuación:\n",
        "\n",
        "Su objetivo es enseñar a los alumnos como se utiliza Python[2] la plataforma Colab [1] y la programación secuencial."
      ]
    },
    {
      "cell_type": "markdown",
      "metadata": {
        "id": "YHcy4TEnF4fa"
      },
      "source": [
        ""
      ]
    },
    {
      "cell_type": "markdown",
      "metadata": {
        "id": "R2Q6GCqeGC-L"
      },
      "source": [
        "#2. Armado del ambiente\n",
        "No son necesario, ejecuciones previas del armado del ambiente."
      ]
    },
    {
      "cell_type": "markdown",
      "metadata": {
        "id": "7Z2D-R_kGLAz"
      },
      "source": [
        "#3. Desarrollo"
      ]
    },
    {
      "cell_type": "code",
      "metadata": {
        "id": "QhZjBIOpGNWA",
        "outputId": "0fc51ba8-302e-467e-bf12-2eedb5359eb5",
        "colab": {
          "base_uri": "https://localhost:8080/"
        }
      },
      "source": [
        "# --------------------------------------------\n",
        "#@title 3.1 Parámetros de ejecución { vertical-output: true }\n",
        "\n",
        "cantidad_N =   50000#@param {type: \"number\"}\n",
        "alfa =   -1#@param {type: \"number\"}\n",
        "\n",
        "# --------------------------------------------\n",
        "\n",
        "from datetime import datetime\n",
        "\n",
        "tiempo_total = datetime.now()\n",
        "\n",
        "import numpy\n",
        "\n",
        "# --------------------------------------------\n",
        "# Definición de función que transforma el tiempo en  milisegundos \n",
        "tiempo_en_ms = lambda dt:(dt.days * 24 * 60 * 60 + dt.seconds) * 1000 + dt.microseconds / 1000.0\n",
        "\n",
        "# --------------------------------------------\n",
        "# CPU - Defino la memoria de los vectores en cpu.\n",
        "x_cpu = numpy.random.randn( cantidad_N )\n",
        "x_cpu = x_cpu.astype( numpy.float32() )\n",
        "\n",
        "y_cpu = numpy.random.randn( cantidad_N )\n",
        "y_cpu = y_cpu.astype( numpy.float32() )\n",
        "\n",
        "# El resultado se escribe sobre el mismo vector Y.\n",
        "#r_cpu = numpy.empty_like( a_cpu )\n",
        "\n",
        "# --------------------------------------------\n",
        "# CPU - Realizo la función Axpy.\n",
        "\n",
        "tiempo_bucle = datetime.now()\n",
        "\n",
        "for idx in range( 0, cantidad_N ):\n",
        "  y_cpu[idx] = alfa*x_cpu[idx] + y_cpu[idx]\n",
        "\n",
        "tiempo_bucle = datetime.now() - tiempo_bucle\n",
        "\n",
        "# --------------------------------------------\n",
        "\n",
        "\"\"\"\n",
        "# CPU - Informo el resultado.\n",
        "print( \"------------------------------------\")\n",
        "print( \"X: \" )\n",
        "print( x_cpu )\n",
        "print( \"------------------------------------\")\n",
        "print( \"Y: \" )\n",
        "print( y_cpu )\n",
        "print( \"------------------------------------\")\n",
        "\"\"\"\n",
        "\n",
        "tiempo_total = datetime.now() - tiempo_total\n",
        "\n",
        "print(\"Tiempo Total: \", tiempo_en_ms( tiempo_total ), \"[ms]\" )\n",
        "print(\"Tiempo bucle: \", tiempo_en_ms( tiempo_bucle ), \"[ms]\" )"
      ],
      "execution_count": 2,
      "outputs": [
        {
          "output_type": "stream",
          "text": [
            "Tiempo Total:  176.081 [ms]\n",
            "Tiempo bucle:  169.096 [ms]\n"
          ],
          "name": "stdout"
        }
      ]
    },
    {
      "cell_type": "markdown",
      "metadata": {
        "id": "1TEiVYRvGURo"
      },
      "source": [
        "\n",
        "#4 Tabla de pasos\n",
        "\n",
        "Procesador | Funcion | Detalle\n",
        "------------ | ------------- | -------------\n",
        "CPU | @param | Lectura del tamaño de vectories de Colab.\n",
        "CPU | import | Importa los módulos para funcionar.\n",
        "CPU | datetime.now() | Toma el tiempo actual.\n",
        "CPU | numpy.random.randn( Cantidad_N ) | Inicializa los vectores A, B y R.\n",
        "CPU | for... | Realiza la suma de los vectores A y B, guardando el resultado en R.\n",
        "CPU | datetime.now() | Toma el tiempo final.\n",
        "CPU | print() | Informa los resultados.\n"
      ]
    },
    {
      "cell_type": "markdown",
      "metadata": {
        "id": "vnzfh1WQG7za"
      },
      "source": [
        "#5. Conclusiones\n",
        "\n",
        "Las conclusiones son explicadas en clase ...\n"
      ]
    },
    {
      "cell_type": "markdown",
      "metadata": {
        "id": "sEtgJsffHC9k"
      },
      "source": [
        "#6. Bibliografía\n",
        "\n",
        "[1] MARKDOWN SYNTAX Colab: PDF\n",
        "\n",
        "[2] Introducción a Python: Página Colab\n",
        "\n",
        "[3] Función Axpy de biblioteca BLAS: Referencia\n",
        "\n",
        "[4] Biblioteca BLAS: Referencia\n",
        "\n",
        "[5] Tutorial Point Colab: PDF"
      ]
    }
  ]
}